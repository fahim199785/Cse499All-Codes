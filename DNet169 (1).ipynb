{
  "cells": [
    {
      "cell_type": "code",
      "execution_count": 1,
      "metadata": {
        "id": "Bo-T3UoZ7ykg"
      },
      "outputs": [],
      "source": [
        "import pandas as pd\n",
        "import numpy as np\n",
        "import tensorflow as tf\n",
        "from glob import glob\n",
        "import seaborn as sns\n",
        "import matplotlib.pyplot as plt\n",
        "import random\n",
        "import os\n",
        "import cv2\n",
        "\n",
        "!pip install opendatasets --upgrade --quiet\n",
        "import opendatasets as od"
      ]
    },
    {
      "cell_type": "code",
      "execution_count": 2,
      "metadata": {
        "id": "8N1aQYf38Cfy"
      },
      "outputs": [],
      "source": [
        "from tensorflow import keras\n",
        "from tensorflow.keras.preprocessing.image import ImageDataGenerator\n",
        "from tensorflow.keras.layers import Conv2D\n",
        "from tensorflow.keras.layers import MaxPooling2D\n",
        "from tensorflow.keras.layers import AveragePooling2D\n",
        "from tensorflow.keras.layers import GlobalAveragePooling2D\n",
        "from tensorflow.keras.optimizers import RMSprop,Adam\n",
        "from tensorflow.keras.models import Sequential\n",
        "from tensorflow.keras.layers import Dropout\n",
        "from tensorflow.keras.layers import Flatten\n",
        "from tensorflow.keras.layers import Input\n",
        "from tensorflow.keras.layers import Dense\n",
        "from keras.layers.merge import concatenate\n",
        "from tensorflow.keras.models import Model\n",
        "from keras.preprocessing import image\n",
        "from keras.layers import Dense, Flatten, AveragePooling2D, Dropout\n",
        "from tensorflow.keras.optimizers import Adam\n",
        "from tensorflow.keras.utils import to_categorical\n",
        "from sklearn.preprocessing import LabelBinarizer\n",
        "from sklearn.model_selection import train_test_split\n",
        "from sklearn.metrics import classification_report\n",
        "from sklearn.model_selection import train_test_split\n",
        "from sklearn.metrics import confusion_matrix\n",
        "from imutils import paths\n",
        "import argparse"
      ]
    },
    {
      "cell_type": "code",
      "execution_count": 3,
      "metadata": {
        "colab": {
          "base_uri": "https://localhost:8080/"
        },
        "id": "E3i4YHM_8FjZ",
        "outputId": "ebfccd18-4032-494f-f0ff-a28d205086f1"
      },
      "outputs": [
        {
          "output_type": "stream",
          "name": "stdout",
          "text": [
            "Mounted at /content/drive\n"
          ]
        }
      ],
      "source": [
        "from google.colab import drive\n",
        "drive.mount('/content/drive')"
      ]
    },
    {
      "cell_type": "code",
      "execution_count": 4,
      "metadata": {
        "id": "USSXabft8IYJ"
      },
      "outputs": [],
      "source": [
        "dataset_url = 'https://www.kaggle.com/datasets/tawsifurrahman/covid19-radiography-database?recency=last7Days'\n",
        "data_dir = '/content/drive/MyDrive/Dataset_Covid/COVID-19_Radiography_Dataset'"
      ]
    },
    {
      "cell_type": "code",
      "execution_count": 5,
      "metadata": {
        "colab": {
          "base_uri": "https://localhost:8080/"
        },
        "id": "nx__4ouS8LBR",
        "outputId": "faf5aea9-c5b0-480a-b2dc-f925047bf4a3"
      },
      "outputs": [
        {
          "output_type": "stream",
          "name": "stdout",
          "text": [
            "Looking in indexes: https://pypi.org/simple, https://us-python.pkg.dev/colab-wheels/public/simple/\n",
            "Collecting split-folders\n",
            "  Downloading split_folders-0.5.1-py3-none-any.whl (8.4 kB)\n",
            "Installing collected packages: split-folders\n",
            "Successfully installed split-folders-0.5.1\n"
          ]
        }
      ],
      "source": [
        "!pip install split-folders"
      ]
    },
    {
      "cell_type": "code",
      "execution_count": 6,
      "metadata": {
        "colab": {
          "base_uri": "https://localhost:8080/"
        },
        "id": "EfEKiz8P8Pa-",
        "outputId": "f4cad0e3-dfcd-42e2-a066-be4b353f19c8"
      },
      "outputs": [
        {
          "output_type": "stream",
          "name": "stderr",
          "text": [
            "Copying files: 21165 files [1:31:36,  3.85 files/s]\n"
          ]
        }
      ],
      "source": [
        "import splitfolders\n",
        "input_folder = '/content/drive/MyDrive/Covid19_Dataset/COVID-19_Radiography_Dataset'\n",
        "splitfolders.ratio( input_folder,\n",
        "                   output=\"/content/drive/MyDrive/output\",seed=1337,ratio=(0.7,0.2,0.1))"
      ]
    },
    {
      "cell_type": "code",
      "execution_count": 7,
      "metadata": {
        "colab": {
          "base_uri": "https://localhost:8080/"
        },
        "id": "5J6VNCyg8TzA",
        "outputId": "68831bf4-cb3d-4455-dfbd-05d9fdeec244"
      },
      "outputs": [
        {
          "output_type": "stream",
          "name": "stdout",
          "text": [
            "Found 14814 images belonging to 4 classes.\n",
            "Found 4232 images belonging to 4 classes.\n",
            "Found 2119 images belonging to 4 classes.\n"
          ]
        }
      ],
      "source": [
        "#load training and testing dataset from directory\n",
        "train_datagen=ImageDataGenerator(rescale = 1./255,\n",
        "                                   rotation_range=15,\n",
        "                                   fill_mode=\"nearest\",\n",
        "                                   horizontal_flip = True)\n",
        "valid_datagen=ImageDataGenerator(rescale = 1./255)\n",
        "test_datagen=ImageDataGenerator(rescale = 1./255)\n",
        "\n",
        "training_set=train_datagen.flow_from_directory('/content/drive/MyDrive/output/train',\n",
        "                                                 target_size = (224, 224),\n",
        "                                                 batch_size = 64,\n",
        "                                                 class_mode = 'categorical',\n",
        "                                                 shuffle=True)\n",
        "valid_set=valid_datagen.flow_from_directory('/content/drive/MyDrive/output/val',\n",
        "                                            target_size = (224, 224),\n",
        "                                            batch_size = 64,\n",
        "                                            class_mode = 'categorical',\n",
        "                                            shuffle = False)\n",
        "test_set=test_datagen.flow_from_directory('/content/drive/MyDrive/output/test',\n",
        "                                            target_size = (224, 224),\n",
        "                                            batch_size = 64,\n",
        "                                            class_mode = 'categorical',\n",
        "                                            shuffle = False)"
      ]
    },
    {
      "cell_type": "code",
      "execution_count": 8,
      "metadata": {
        "colab": {
          "base_uri": "https://localhost:8080/"
        },
        "id": "tWVQSq2C8YmC",
        "outputId": "026f60f6-4a80-4f54-e254-e9929f647610"
      },
      "outputs": [
        {
          "output_type": "stream",
          "name": "stdout",
          "text": [
            "{'COVID': 0, 'Lung_Opacity': 1, 'Normal': 2, 'Viral Pneumonia': 3}\n",
            "{'COVID': 0, 'Lung_Opacity': 1, 'Normal': 2, 'Viral Pneumonia': 3}\n",
            "{'COVID': 0, 'Lung_Opacity': 1, 'Normal': 2, 'Viral Pneumonia': 3}\n"
          ]
        }
      ],
      "source": [
        "print(training_set.class_indices)\n",
        "print(valid_set.class_indices)\n",
        "print(test_set.class_indices)"
      ]
    },
    {
      "cell_type": "code",
      "execution_count": 9,
      "metadata": {
        "colab": {
          "base_uri": "https://localhost:8080/"
        },
        "id": "wRNHDwUB8cPS",
        "outputId": "02617b09-2e9c-4252-bc4c-ca0ec848525b"
      },
      "outputs": [
        {
          "output_type": "stream",
          "name": "stdout",
          "text": [
            "Downloading data from https://storage.googleapis.com/tensorflow/keras-applications/densenet/densenet169_weights_tf_dim_ordering_tf_kernels_notop.h5\n",
            "51879936/51877672 [==============================] - 0s 0us/step\n",
            "51888128/51877672 [==============================] - 0s 0us/step\n"
          ]
        }
      ],
      "source": [
        "from tensorflow.keras.applications.densenet import DenseNet169 \n",
        "base_model = DenseNet169(input_shape=(224,224,3), \n",
        "                   include_top=False,\n",
        "                   weights=\"imagenet\")\n",
        "\n",
        "for layer in base_model.layers:\n",
        "    layer.trainable=False"
      ]
    },
    {
      "cell_type": "code",
      "execution_count": 10,
      "metadata": {
        "colab": {
          "base_uri": "https://localhost:8080/"
        },
        "id": "uCyOrPpj8iXF",
        "outputId": "857e1119-e4c2-4f65-81d2-92a45c8ef627"
      },
      "outputs": [
        {
          "output_type": "stream",
          "name": "stdout",
          "text": [
            "Looking in indexes: https://pypi.org/simple, https://us-python.pkg.dev/colab-wheels/public/simple/\n",
            "Collecting resnet\n",
            "  Downloading resnet-0.1.tar.gz (5.8 kB)\n",
            "Requirement already satisfied: keras>=2.0 in /usr/local/lib/python3.7/dist-packages (from resnet) (2.8.0)\n",
            "Building wheels for collected packages: resnet\n",
            "  Building wheel for resnet (setup.py) ... \u001b[?25l\u001b[?25hdone\n",
            "  Created wheel for resnet: filename=resnet-0.1-py3-none-any.whl size=10042 sha256=80aea4e3ad3c037be238e8f5866c4506a55c43a06fc7228d02b18b95f6c0e30f\n",
            "  Stored in directory: /root/.cache/pip/wheels/38/23/58/6e83e34ced7d4772b88e2e86305f94a1ca497bd87937f5e7ec\n",
            "Successfully built resnet\n",
            "Installing collected packages: resnet\n",
            "Successfully installed resnet-0.1\n"
          ]
        }
      ],
      "source": [
        "from tensorflow.keras.layers import Dense,Conv2D,MaxPool2D,Flatten,Dropout,BatchNormalization,Activation\n",
        "from tensorflow.keras.preprocessing.image import ImageDataGenerator\n",
        "import matplotlib.pyplot as plt\n",
        "from keras.preprocessing.image import load_img,img_to_array\n",
        "!pip3 install resnet"
      ]
    },
    {
      "cell_type": "code",
      "execution_count": 11,
      "metadata": {
        "id": "GEkvoAuO8l4H"
      },
      "outputs": [],
      "source": [
        "DenseNet169_MODEL=Sequential()\n",
        "DenseNet169_MODEL.add(base_model)\n",
        "DenseNet169_MODEL.add(Dropout(0.5))\n",
        "DenseNet169_MODEL.add(tf.keras.layers.GlobalAveragePooling2D())\n",
        "DenseNet169_MODEL.add(Flatten())\n",
        "DenseNet169_MODEL.add(BatchNormalization())\n",
        "DenseNet169_MODEL.add(Dense(64,kernel_initializer='he_uniform'))\n",
        "DenseNet169_MODEL.add(BatchNormalization())\n",
        "DenseNet169_MODEL.add(Activation('relu'))\n",
        "DenseNet169_MODEL.add(Dropout(0.5))\n",
        "DenseNet169_MODEL.add(Dense(64,kernel_initializer='he_uniform'))\n",
        "DenseNet169_MODEL.add(BatchNormalization())\n",
        "DenseNet169_MODEL.add(Activation('relu'))\n",
        "DenseNet169_MODEL.add(Dropout(0.5))\n",
        "DenseNet169_MODEL.add(Dense(64,kernel_initializer='he_uniform'))\n",
        "DenseNet169_MODEL.add(BatchNormalization())\n",
        "DenseNet169_MODEL.add(Activation('relu'))\n",
        "DenseNet169_MODEL.add(Dropout(0.5))\n",
        "DenseNet169_MODEL.add(Dense(32,kernel_initializer='he_uniform'))\n",
        "DenseNet169_MODEL.add(BatchNormalization())\n",
        "DenseNet169_MODEL.add(Activation('relu'))\n",
        "DenseNet169_MODEL.add(Dropout(0.5))\n",
        "DenseNet169_MODEL.add(Dense(32,kernel_initializer='he_uniform'))\n",
        "DenseNet169_MODEL.add(BatchNormalization())\n",
        "DenseNet169_MODEL.add(Activation('relu'))\n",
        "DenseNet169_MODEL.add(Dense(4,activation='softmax'))"
      ]
    },
    {
      "cell_type": "code",
      "execution_count": 12,
      "metadata": {
        "colab": {
          "base_uri": "https://localhost:8080/"
        },
        "id": "Ozwa-qBT8pMa",
        "outputId": "dcbb312f-0a26-482c-d4c7-5efc2d3e06a4"
      },
      "outputs": [
        {
          "output_type": "stream",
          "name": "stdout",
          "text": [
            "Model: \"sequential\"\n",
            "_________________________________________________________________\n",
            " Layer (type)                Output Shape              Param #   \n",
            "=================================================================\n",
            " densenet169 (Functional)    (None, 7, 7, 1664)        12642880  \n",
            "                                                                 \n",
            " dropout (Dropout)           (None, 7, 7, 1664)        0         \n",
            "                                                                 \n",
            " global_average_pooling2d (G  (None, 1664)             0         \n",
            " lobalAveragePooling2D)                                          \n",
            "                                                                 \n",
            " flatten (Flatten)           (None, 1664)              0         \n",
            "                                                                 \n",
            " batch_normalization (BatchN  (None, 1664)             6656      \n",
            " ormalization)                                                   \n",
            "                                                                 \n",
            " dense (Dense)               (None, 64)                106560    \n",
            "                                                                 \n",
            " batch_normalization_1 (Batc  (None, 64)               256       \n",
            " hNormalization)                                                 \n",
            "                                                                 \n",
            " activation (Activation)     (None, 64)                0         \n",
            "                                                                 \n",
            " dropout_1 (Dropout)         (None, 64)                0         \n",
            "                                                                 \n",
            " dense_1 (Dense)             (None, 64)                4160      \n",
            "                                                                 \n",
            " batch_normalization_2 (Batc  (None, 64)               256       \n",
            " hNormalization)                                                 \n",
            "                                                                 \n",
            " activation_1 (Activation)   (None, 64)                0         \n",
            "                                                                 \n",
            " dropout_2 (Dropout)         (None, 64)                0         \n",
            "                                                                 \n",
            " dense_2 (Dense)             (None, 64)                4160      \n",
            "                                                                 \n",
            " batch_normalization_3 (Batc  (None, 64)               256       \n",
            " hNormalization)                                                 \n",
            "                                                                 \n",
            " activation_2 (Activation)   (None, 64)                0         \n",
            "                                                                 \n",
            " dropout_3 (Dropout)         (None, 64)                0         \n",
            "                                                                 \n",
            " dense_3 (Dense)             (None, 32)                2080      \n",
            "                                                                 \n",
            " batch_normalization_4 (Batc  (None, 32)               128       \n",
            " hNormalization)                                                 \n",
            "                                                                 \n",
            " activation_3 (Activation)   (None, 32)                0         \n",
            "                                                                 \n",
            " dropout_4 (Dropout)         (None, 32)                0         \n",
            "                                                                 \n",
            " dense_4 (Dense)             (None, 32)                1056      \n",
            "                                                                 \n",
            " batch_normalization_5 (Batc  (None, 32)               128       \n",
            " hNormalization)                                                 \n",
            "                                                                 \n",
            " activation_4 (Activation)   (None, 32)                0         \n",
            "                                                                 \n",
            " dense_5 (Dense)             (None, 4)                 132       \n",
            "                                                                 \n",
            "=================================================================\n",
            "Total params: 12,768,708\n",
            "Trainable params: 121,988\n",
            "Non-trainable params: 12,646,720\n",
            "_________________________________________________________________\n"
          ]
        }
      ],
      "source": [
        "DenseNet169_MODEL.compile(optimizer= tf.keras.optimizers.Adam(0.001),\n",
        "              loss='categorical_crossentropy',\n",
        "              metrics=['accuracy','Precision','Recall'])\n",
        "DenseNet169_MODEL.summary()"
      ]
    },
    {
      "cell_type": "code",
      "execution_count": 13,
      "metadata": {
        "id": "PQeB3OGe8tec"
      },
      "outputs": [],
      "source": [
        "#For avoiding overfitting\n",
        "early = tf.keras.callbacks.EarlyStopping(monitor='val_loss',patience=5)"
      ]
    },
    {
      "cell_type": "code",
      "execution_count": 14,
      "metadata": {
        "colab": {
          "base_uri": "https://localhost:8080/"
        },
        "id": "BSVaQFUQ80W3",
        "outputId": "d07fad16-b6c3-45ff-8fad-372bbb9fbb63"
      },
      "outputs": [
        {
          "output_type": "stream",
          "name": "stderr",
          "text": [
            "/usr/local/lib/python3.7/dist-packages/ipykernel_launcher.py:4: UserWarning: `Model.fit_generator` is deprecated and will be removed in a future version. Please use `Model.fit`, which supports generators.\n",
            "  after removing the cwd from sys.path.\n"
          ]
        },
        {
          "output_type": "stream",
          "name": "stdout",
          "text": [
            "Epoch 1/100\n",
            "232/232 [==============================] - 250s 948ms/step - loss: 1.1731 - accuracy: 0.5047 - precision: 0.5989 - recall: 0.2826 - val_loss: 0.8174 - val_accuracy: 0.6819 - val_precision: 0.7580 - val_recall: 0.6196\n",
            "Epoch 2/100\n",
            "232/232 [==============================] - 213s 918ms/step - loss: 0.9112 - accuracy: 0.6503 - precision: 0.7459 - recall: 0.5306 - val_loss: 0.6978 - val_accuracy: 0.7176 - val_precision: 0.7823 - val_recall: 0.6470\n",
            "Epoch 3/100\n",
            "232/232 [==============================] - 217s 933ms/step - loss: 0.7997 - accuracy: 0.6946 - precision: 0.7921 - recall: 0.5866 - val_loss: 0.6118 - val_accuracy: 0.7762 - val_precision: 0.8455 - val_recall: 0.6985\n",
            "Epoch 4/100\n",
            "232/232 [==============================] - 212s 912ms/step - loss: 0.7255 - accuracy: 0.7307 - precision: 0.8147 - recall: 0.6387 - val_loss: 0.5237 - val_accuracy: 0.8429 - val_precision: 0.8836 - val_recall: 0.7462\n",
            "Epoch 5/100\n",
            "232/232 [==============================] - 211s 910ms/step - loss: 0.6490 - accuracy: 0.7688 - precision: 0.8277 - recall: 0.6941 - val_loss: 0.4604 - val_accuracy: 0.8488 - val_precision: 0.8728 - val_recall: 0.8223\n",
            "Epoch 6/100\n",
            "232/232 [==============================] - 210s 905ms/step - loss: 0.5899 - accuracy: 0.7944 - precision: 0.8378 - recall: 0.7402 - val_loss: 0.4093 - val_accuracy: 0.8629 - val_precision: 0.8794 - val_recall: 0.8474\n",
            "Epoch 7/100\n",
            "232/232 [==============================] - 211s 908ms/step - loss: 0.5527 - accuracy: 0.8125 - precision: 0.8473 - recall: 0.7670 - val_loss: 0.3807 - val_accuracy: 0.8759 - val_precision: 0.8877 - val_recall: 0.8611\n",
            "Epoch 8/100\n",
            "232/232 [==============================] - 210s 906ms/step - loss: 0.5349 - accuracy: 0.8204 - precision: 0.8507 - recall: 0.7833 - val_loss: 0.3736 - val_accuracy: 0.8800 - val_precision: 0.8891 - val_recall: 0.8679\n",
            "Epoch 9/100\n",
            "232/232 [==============================] - 211s 908ms/step - loss: 0.5112 - accuracy: 0.8312 - precision: 0.8564 - recall: 0.7971 - val_loss: 0.3700 - val_accuracy: 0.8769 - val_precision: 0.8882 - val_recall: 0.8653\n",
            "Epoch 10/100\n",
            "232/232 [==============================] - 210s 906ms/step - loss: 0.5018 - accuracy: 0.8348 - precision: 0.8562 - recall: 0.8042 - val_loss: 0.3523 - val_accuracy: 0.8854 - val_precision: 0.8922 - val_recall: 0.8764\n",
            "Epoch 11/100\n",
            "232/232 [==============================] - 210s 906ms/step - loss: 0.4840 - accuracy: 0.8393 - precision: 0.8591 - recall: 0.8109 - val_loss: 0.3533 - val_accuracy: 0.8809 - val_precision: 0.8891 - val_recall: 0.8736\n",
            "Epoch 12/100\n",
            "232/232 [==============================] - 210s 906ms/step - loss: 0.4805 - accuracy: 0.8420 - precision: 0.8626 - recall: 0.8142 - val_loss: 0.3479 - val_accuracy: 0.8863 - val_precision: 0.8948 - val_recall: 0.8785\n",
            "Epoch 13/100\n",
            "232/232 [==============================] - 210s 904ms/step - loss: 0.4707 - accuracy: 0.8460 - precision: 0.8621 - recall: 0.8222 - val_loss: 0.3425 - val_accuracy: 0.8837 - val_precision: 0.8927 - val_recall: 0.8767\n",
            "Epoch 14/100\n",
            "232/232 [==============================] - 210s 904ms/step - loss: 0.4558 - accuracy: 0.8498 - precision: 0.8666 - recall: 0.8298 - val_loss: 0.3400 - val_accuracy: 0.8892 - val_precision: 0.8961 - val_recall: 0.8828\n",
            "Epoch 15/100\n",
            "232/232 [==============================] - 210s 904ms/step - loss: 0.4560 - accuracy: 0.8496 - precision: 0.8661 - recall: 0.8306 - val_loss: 0.3335 - val_accuracy: 0.8908 - val_precision: 0.8960 - val_recall: 0.8852\n",
            "Epoch 16/100\n",
            "232/232 [==============================] - 210s 904ms/step - loss: 0.4516 - accuracy: 0.8507 - precision: 0.8649 - recall: 0.8324 - val_loss: 0.3283 - val_accuracy: 0.8889 - val_precision: 0.8975 - val_recall: 0.8837\n",
            "Epoch 17/100\n",
            "232/232 [==============================] - 210s 905ms/step - loss: 0.4358 - accuracy: 0.8556 - precision: 0.8688 - recall: 0.8376 - val_loss: 0.3240 - val_accuracy: 0.8934 - val_precision: 0.8994 - val_recall: 0.8878\n",
            "Epoch 18/100\n",
            "232/232 [==============================] - 210s 905ms/step - loss: 0.4350 - accuracy: 0.8570 - precision: 0.8701 - recall: 0.8414 - val_loss: 0.3233 - val_accuracy: 0.8922 - val_precision: 0.8979 - val_recall: 0.8871\n",
            "Epoch 19/100\n",
            "232/232 [==============================] - 211s 908ms/step - loss: 0.4288 - accuracy: 0.8574 - precision: 0.8694 - recall: 0.8414 - val_loss: 0.3274 - val_accuracy: 0.8913 - val_precision: 0.8984 - val_recall: 0.8863\n",
            "Epoch 20/100\n",
            "232/232 [==============================] - 210s 906ms/step - loss: 0.4246 - accuracy: 0.8605 - precision: 0.8733 - recall: 0.8449 - val_loss: 0.3098 - val_accuracy: 0.8979 - val_precision: 0.9019 - val_recall: 0.8927\n",
            "Epoch 21/100\n",
            "232/232 [==============================] - 210s 906ms/step - loss: 0.4124 - accuracy: 0.8620 - precision: 0.8751 - recall: 0.8487 - val_loss: 0.3126 - val_accuracy: 0.8965 - val_precision: 0.9024 - val_recall: 0.8913\n",
            "Epoch 22/100\n",
            "232/232 [==============================] - 210s 906ms/step - loss: 0.4207 - accuracy: 0.8631 - precision: 0.8751 - recall: 0.8493 - val_loss: 0.3138 - val_accuracy: 0.9010 - val_precision: 0.9055 - val_recall: 0.8941\n",
            "Epoch 23/100\n",
            "232/232 [==============================] - 210s 903ms/step - loss: 0.4179 - accuracy: 0.8598 - precision: 0.8711 - recall: 0.8460 - val_loss: 0.3057 - val_accuracy: 0.8984 - val_precision: 0.9046 - val_recall: 0.8915\n",
            "Epoch 24/100\n",
            "232/232 [==============================] - 212s 913ms/step - loss: 0.4093 - accuracy: 0.8617 - precision: 0.8734 - recall: 0.8487 - val_loss: 0.3185 - val_accuracy: 0.8960 - val_precision: 0.9023 - val_recall: 0.8906\n",
            "Epoch 25/100\n",
            "232/232 [==============================] - 210s 907ms/step - loss: 0.4069 - accuracy: 0.8632 - precision: 0.8744 - recall: 0.8495 - val_loss: 0.3049 - val_accuracy: 0.8996 - val_precision: 0.9068 - val_recall: 0.8941\n",
            "Epoch 26/100\n",
            "232/232 [==============================] - 210s 908ms/step - loss: 0.3965 - accuracy: 0.8681 - precision: 0.8793 - recall: 0.8549 - val_loss: 0.3132 - val_accuracy: 0.8986 - val_precision: 0.9042 - val_recall: 0.8922\n",
            "Epoch 27/100\n",
            "232/232 [==============================] - 211s 907ms/step - loss: 0.3994 - accuracy: 0.8675 - precision: 0.8774 - recall: 0.8549 - val_loss: 0.3096 - val_accuracy: 0.9010 - val_precision: 0.9069 - val_recall: 0.8951\n",
            "Epoch 28/100\n",
            "232/232 [==============================] - 211s 907ms/step - loss: 0.3976 - accuracy: 0.8667 - precision: 0.8768 - recall: 0.8551 - val_loss: 0.3111 - val_accuracy: 0.8984 - val_precision: 0.9046 - val_recall: 0.8941\n",
            "Epoch 29/100\n",
            "232/232 [==============================] - 211s 907ms/step - loss: 0.3991 - accuracy: 0.8694 - precision: 0.8802 - recall: 0.8589 - val_loss: 0.3089 - val_accuracy: 0.9048 - val_precision: 0.9107 - val_recall: 0.8986\n",
            "Epoch 30/100\n",
            "232/232 [==============================] - 211s 910ms/step - loss: 0.3914 - accuracy: 0.8690 - precision: 0.8788 - recall: 0.8571 - val_loss: 0.2999 - val_accuracy: 0.9057 - val_precision: 0.9098 - val_recall: 0.9008\n",
            "Epoch 31/100\n",
            "232/232 [==============================] - 211s 911ms/step - loss: 0.3831 - accuracy: 0.8734 - precision: 0.8820 - recall: 0.8609 - val_loss: 0.2991 - val_accuracy: 0.9060 - val_precision: 0.9112 - val_recall: 0.8996\n",
            "Epoch 32/100\n",
            "232/232 [==============================] - 211s 910ms/step - loss: 0.3894 - accuracy: 0.8701 - precision: 0.8787 - recall: 0.8569 - val_loss: 0.2947 - val_accuracy: 0.9052 - val_precision: 0.9100 - val_recall: 0.9005\n",
            "Epoch 33/100\n",
            "232/232 [==============================] - 211s 909ms/step - loss: 0.3896 - accuracy: 0.8699 - precision: 0.8802 - recall: 0.8607 - val_loss: 0.2993 - val_accuracy: 0.9026 - val_precision: 0.9080 - val_recall: 0.8956\n",
            "Epoch 34/100\n",
            "232/232 [==============================] - 211s 907ms/step - loss: 0.3822 - accuracy: 0.8713 - precision: 0.8803 - recall: 0.8620 - val_loss: 0.2965 - val_accuracy: 0.9029 - val_precision: 0.9079 - val_recall: 0.8967\n",
            "Epoch 35/100\n",
            "232/232 [==============================] - 209s 902ms/step - loss: 0.3719 - accuracy: 0.8747 - precision: 0.8834 - recall: 0.8652 - val_loss: 0.2892 - val_accuracy: 0.9067 - val_precision: 0.9099 - val_recall: 0.9019\n",
            "Epoch 36/100\n",
            "232/232 [==============================] - 211s 908ms/step - loss: 0.3771 - accuracy: 0.8728 - precision: 0.8823 - recall: 0.8616 - val_loss: 0.2960 - val_accuracy: 0.9062 - val_precision: 0.9125 - val_recall: 0.8998\n",
            "Epoch 37/100\n",
            "232/232 [==============================] - 211s 908ms/step - loss: 0.3706 - accuracy: 0.8759 - precision: 0.8836 - recall: 0.8655 - val_loss: 0.2959 - val_accuracy: 0.9029 - val_precision: 0.9092 - val_recall: 0.8989\n",
            "Epoch 38/100\n",
            "232/232 [==============================] - 213s 916ms/step - loss: 0.3770 - accuracy: 0.8730 - precision: 0.8821 - recall: 0.8646 - val_loss: 0.2955 - val_accuracy: 0.9041 - val_precision: 0.9097 - val_recall: 0.9003\n",
            "Epoch 39/100\n",
            "232/232 [==============================] - 211s 908ms/step - loss: 0.3714 - accuracy: 0.8750 - precision: 0.8832 - recall: 0.8651 - val_loss: 0.3015 - val_accuracy: 0.9005 - val_precision: 0.9065 - val_recall: 0.8963\n",
            "Epoch 40/100\n",
            "232/232 [==============================] - 211s 907ms/step - loss: 0.3713 - accuracy: 0.8757 - precision: 0.8845 - recall: 0.8654 - val_loss: 0.2950 - val_accuracy: 0.9019 - val_precision: 0.9064 - val_recall: 0.8967\n"
          ]
        }
      ],
      "source": [
        "DenseNet169_MODEL.compile(optimizer= Adam(learning_rate = 0.001),\n",
        "              loss='categorical_crossentropy',\n",
        "              metrics=['accuracy','Precision','Recall'])\n",
        "history = DenseNet169_MODEL.fit_generator(training_set, validation_data = valid_set, epochs=100, verbose=1, callbacks=[early])"
      ]
    },
    {
      "cell_type": "code",
      "execution_count": 15,
      "metadata": {
        "colab": {
          "base_uri": "https://localhost:8080/"
        },
        "id": "uYjlaAYP853-",
        "outputId": "e1695d31-ddbb-476e-d3ba-7d5a649b3439"
      },
      "outputs": [
        {
          "output_type": "stream",
          "name": "stdout",
          "text": [
            "34/34 [==============================] - 11s 309ms/step - loss: 0.3058 - accuracy: 0.8995 - precision: 0.9049 - recall: 0.8938\n"
          ]
        },
        {
          "output_type": "execute_result",
          "data": {
            "text/plain": [
              "[0.3057539165019989,\n",
              " 0.8994808793067932,\n",
              " 0.9049211740493774,\n",
              " 0.8938178420066833]"
            ]
          },
          "metadata": {},
          "execution_count": 15
        }
      ],
      "source": [
        "DenseNet169_MODEL.evaluate(test_set, verbose=1)\n"
      ]
    },
    {
      "cell_type": "code",
      "execution_count": 16,
      "metadata": {
        "id": "nv3gp7N98-FQ"
      },
      "outputs": [],
      "source": [
        "DenseNet169_MODEL.save('DenseNet169.h5')"
      ]
    },
    {
      "cell_type": "code",
      "execution_count": 17,
      "metadata": {
        "id": "t01z0h4b9BWp"
      },
      "outputs": [],
      "source": [
        "#Accuracy, val_acc, loss, val_loss, epoch_range\n",
        "acc = history.history['accuracy']\n",
        "val_acc = history.history['val_accuracy']     #history2.history['accuracy']\n",
        "loss = history.history['loss']\n",
        "val_loss = history.history['val_loss']\n",
        "epochs=range(len(acc))"
      ]
    },
    {
      "cell_type": "code",
      "execution_count": 18,
      "metadata": {
        "colab": {
          "base_uri": "https://localhost:8080/"
        },
        "id": "VVuY2ctC9Ee1",
        "outputId": "cf7462ed-1c80-4732-ce8e-1b710442c16e"
      },
      "outputs": [
        {
          "output_type": "stream",
          "name": "stdout",
          "text": [
            "accuracy:  [0.5047252774238586, 0.6503307819366455, 0.6946132183074951, 0.7306602001190186, 0.7687997817993164, 0.794383704662323, 0.8124746680259705, 0.8203726410865784, 0.831240713596344, 0.8347508907318115, 0.8393411636352539, 0.8419737815856934, 0.8459565043449402, 0.8498042225837708, 0.8496017456054688, 0.8507493138313293, 0.8556095361709595, 0.8570271134376526, 0.8574321866035461, 0.8604698181152344, 0.8620223999023438, 0.8631024956703186, 0.8597947955131531, 0.8616849184036255, 0.8631699681282043, 0.868097722530365, 0.8674902319908142, 0.8667476773262024, 0.8694478273391724, 0.8690428137779236, 0.8733630180358887, 0.8701228499412537, 0.8699203729629517, 0.8712704181671143, 0.874713122844696, 0.8728229999542236, 0.8758606910705566, 0.8729580044746399, 0.8749831318855286, 0.8757256865501404]\n",
            "validation accuracy:  [0.6819470524787903, 0.7176275849342346, 0.7762287259101868, 0.842863917350769, 0.8487712740898132, 0.8629489541053772, 0.8759451508522034, 0.8799622058868408, 0.8768903613090515, 0.8853969573974609, 0.8809073567390442, 0.8863421678543091, 0.8837429285049438, 0.889177680015564, 0.8908317685127258, 0.8889414072036743, 0.8934310078620911, 0.8922495245933533, 0.8913043737411499, 0.8979206085205078, 0.8965028524398804, 0.9009924530982971, 0.8983932137489319, 0.8960302472114563, 0.8995746970176697, 0.8986294865608215, 0.9009924530982971, 0.8983932137489319, 0.9047731757164001, 0.9057183265686035, 0.9059546589851379, 0.9052457213401794, 0.9026464819908142, 0.9028828144073486, 0.9066635370254517, 0.9061909317970276, 0.9028828144073486, 0.9040642976760864, 0.900519847869873, 0.9019376039505005]\n",
            "loss:  [1.1731401681900024, 0.9112100005149841, 0.7996984124183655, 0.7255222201347351, 0.6489551663398743, 0.589947521686554, 0.5527200102806091, 0.5348530411720276, 0.5111575722694397, 0.5018031597137451, 0.4840480089187622, 0.4805159866809845, 0.4707372486591339, 0.4557928144931793, 0.4560078978538513, 0.45157501101493835, 0.43576568365097046, 0.4350290894508362, 0.42877182364463806, 0.4246286153793335, 0.4124039113521576, 0.42069974541664124, 0.417898952960968, 0.40927258133888245, 0.4068681001663208, 0.396466463804245, 0.39939749240875244, 0.3975962996482849, 0.3990641236305237, 0.39142465591430664, 0.38309773802757263, 0.38936424255371094, 0.3895752727985382, 0.38221901655197144, 0.3719106614589691, 0.37705132365226746, 0.3706481456756592, 0.37704184651374817, 0.3714084029197693, 0.37126556038856506]\n",
            "validation loss:  [0.8173914551734924, 0.6978286504745483, 0.6118119359016418, 0.5236565470695496, 0.460373193025589, 0.409281462430954, 0.380743145942688, 0.3736191987991333, 0.36998069286346436, 0.3522780239582062, 0.35325267910957336, 0.3478505611419678, 0.34251299500465393, 0.34003114700317383, 0.33351486921310425, 0.3283211290836334, 0.32396888732910156, 0.32333898544311523, 0.32736366987228394, 0.309760183095932, 0.3126377761363983, 0.3138398826122284, 0.3056599795818329, 0.31845325231552124, 0.3049142360687256, 0.3132266402244568, 0.3096327483654022, 0.3110930919647217, 0.3088928759098053, 0.2998810112476349, 0.2990642786026001, 0.2947136461734772, 0.29931920766830444, 0.2964572310447693, 0.2891896963119507, 0.2960185408592224, 0.2959141433238983, 0.295507550239563, 0.3014739453792572, 0.29503244161605835]\n",
            "epochs:  range(0, 40)\n"
          ]
        }
      ],
      "source": [
        "print(\"accuracy: \",acc)\n",
        "print(\"validation accuracy: \",val_acc)\n",
        "print(\"loss: \",loss)\n",
        "print(\"validation loss: \",val_loss)\n",
        "print(\"epochs: \",epochs)"
      ]
    },
    {
      "cell_type": "code",
      "execution_count": 19,
      "metadata": {
        "colab": {
          "base_uri": "https://localhost:8080/",
          "height": 298
        },
        "id": "oEerl1MN9HLa",
        "outputId": "46bfd886-2d45-4fd5-e247-31aaf110ea82"
      },
      "outputs": [
        {
          "output_type": "execute_result",
          "data": {
            "text/plain": [
              "Text(0.5, 1.0, 'Training and Validation Accuracy')"
            ]
          },
          "metadata": {},
          "execution_count": 19
        },
        {
          "output_type": "display_data",
          "data": {
            "text/plain": [
              "<Figure size 432x288 with 1 Axes>"
            ],
            "image/png": "[encoded data removed]"
          },
          "metadata": {
            "needs_background": "light"
          }
        }
      ],
      "source": [
        "#plot training nad validation accuracy\n",
        "plt.plot(epochs,acc,label='Training_acc',color='blue')\n",
        "plt.plot(epochs,val_acc,label='Validation_acc',color='red')\n",
        "plt.legend()\n",
        "plt.title(\"Training and Validation Accuracy\")"
      ]
    },
    {
      "cell_type": "code",
      "execution_count": 20,
      "metadata": {
        "colab": {
          "base_uri": "https://localhost:8080/",
          "height": 298
        },
        "id": "5MvStOxC9MbX",
        "outputId": "1ba46fa4-0768-41a7-82fb-88aafc16af59"
      },
      "outputs": [
        {
          "output_type": "execute_result",
          "data": {
            "text/plain": [
              "Text(0.5, 1.0, 'Training and Validation loss')"
            ]
          },
          "metadata": {},
          "execution_count": 20
        },
        {
          "output_type": "display_data",
          "data": {
            "text/plain": [
              "<Figure size 432x288 with 1 Axes>"
            ],
            "image/png": "[encoded data removed]"
          },
          "metadata": {
            "needs_background": "light"
          }
        }
      ],
      "source": [
        "#training and validation loss\n",
        "plt.plot(epochs,loss,label='Training_loss',color='blue')\n",
        "plt.plot(epochs,val_loss,label='Validation_loss',color='red')\n",
        "plt.legend()\n",
        "plt.title(\"Training and Validation loss\")"
      ]
    },
    {
      "cell_type": "code",
      "execution_count": 21,
      "metadata": {
        "colab": {
          "base_uri": "https://localhost:8080/",
          "height": 1000
        },
        "id": "I0JCt4U49Pk2",
        "outputId": "dd887a40-aa72-4650-96cf-7f4576b49af2"
      },
      "outputs": [
        {
          "output_type": "display_data",
          "data": {
            "text/plain": [
              "<Figure size 432x288 with 1 Axes>"
            ],
            "image/png": "[encoded data removed]"
          },
          "metadata": {
            "needs_background": "light"
          }
        },
        {
          "output_type": "display_data",
          "data": {
            "text/plain": [
              "<Figure size 432x288 with 1 Axes>"
            ],
            "image/png": "[encoded data removed]"
          },
          "metadata": {
            "needs_background": "light"
          }
        },
        {
          "output_type": "display_data",
          "data": {
            "text/plain": [
              "<Figure size 432x288 with 1 Axes>"
            ],
            "image/png": "[encoded data removed]"
          },
          "metadata": {
            "needs_background": "light"
          }
        },
        {
          "output_type": "display_data",
          "data": {
            "text/plain": [
              "<Figure size 432x288 with 1 Axes>"
            ],
            "image/png": "[encoded data removed]"
          },
          "metadata": {
            "needs_background": "light"
          }
        }
      ],
      "source": [
        "acc = history.history['accuracy']\n",
        "val_acc = history.history['val_accuracy']\n",
        "\n",
        "train_precision=history.history['precision']\n",
        "val_precision=history.history['val_precision']\n",
        "\n",
        "train_recall=history.history['recall']\n",
        "val_recall=history.history['val_recall']\n",
        "\n",
        "loss = history.history['loss']\n",
        "val_loss = history.history['val_loss']\n",
        "\n",
        "epochs = range(len(acc))\n",
        "\n",
        "plt.plot(epochs, acc, 'r', label='Training accuracy')\n",
        "plt.plot(epochs, val_acc, 'b', label='Validation accuracy')\n",
        "plt.title('Training and validation accuracy')\n",
        "plt.legend()\n",
        "plt.figure()\n",
        "\n",
        "plt.plot(epochs, train_precision, 'r', label='Training precision')\n",
        "plt.plot(epochs, val_precision, 'b', label='Validation precision')\n",
        "plt.title('Training and validation precision')\n",
        "plt.legend()\n",
        "plt.figure()\n",
        "\n",
        "plt.plot(epochs, train_recall, 'r', label='Training recall')\n",
        "plt.plot(epochs, val_recall, 'b', label='Validation recall')\n",
        "plt.title('Training and validation recall')\n",
        "plt.legend()\n",
        "plt.figure()\n",
        "\n",
        "plt.plot(epochs, loss, 'r', label='Training Loss')\n",
        "plt.plot(epochs, val_loss, 'b', label='Validation Loss')\n",
        "plt.title('Training and validation loss')\n",
        "plt.legend()\n",
        "\n",
        "plt.show()"
      ]
    },
    {
      "cell_type": "code",
      "execution_count": 22,
      "metadata": {
        "colab": {
          "base_uri": "https://localhost:8080/",
          "height": 49
        },
        "id": "a0Oug_oL9Tyq",
        "outputId": "357aa9c1-5993-4d1d-8b31-c3d57af09d5c"
      },
      "outputs": [
        {
          "output_type": "execute_result",
          "data": {
            "text/plain": [
              "Empty DataFrame\n",
              "Columns: []\n",
              "Index: []"
            ],
            "text/html": [
              "\n",
              "  <div id=\"df-e12bab6d-a2c8-4bf9-9ba0-4eb790c8e529\">\n",
              "    <div class=\"colab-df-container\">\n",
              "      <div>\n",
              "<style scoped>\n",
              "    .dataframe tbody tr th:only-of-type {\n",
              "        vertical-align: middle;\n",
              "    }\n",
              "\n",
              "    .dataframe tbody tr th {\n",
              "        vertical-align: top;\n",
              "    }\n",
              "\n",
              "    .dataframe thead th {\n",
              "        text-align: right;\n",
              "    }\n",
              "</style>\n",
              "<table border=\"1\" class=\"dataframe\">\n",
              "  <thead>\n",
              "    <tr style=\"text-align: right;\">\n",
              "      <th></th>\n",
              "    </tr>\n",
              "  </thead>\n",
              "  <tbody>\n",
              "  </tbody>\n",
              "</table>\n",
              "</div>\n",
              "      <button class=\"colab-df-convert\" onclick=\"convertToInteractive('df-e12bab6d-a2c8-4bf9-9ba0-4eb790c8e529')\"\n",
              "              title=\"Convert this dataframe to an interactive table.\"\n",
              "              style=\"display:none;\">\n",
              "        \n",
              "  <svg xmlns=\"http://www.w3.org/2000/svg\" height=\"24px\"viewBox=\"0 0 24 24\"\n",
              "       width=\"24px\">\n",
              "    <path d=\"M0 0h24v24H0V0z\" fill=\"none\"/>\n",
              "    <path d=\"M18.56 5.44l.94 2.06.94-2.06 2.06-.94-2.06-.94-.94-2.06-.94 2.06-2.06.94zm-11 1L8.5 8.5l.94-2.06 2.06-.94-2.06-.94L8.5 2.5l-.94 2.06-2.06.94zm10 10l.94 2.06.94-2.06 2.06-.94-2.06-.94-.94-2.06-.94 2.06-2.06.94z\"/><path d=\"M17.41 7.96l-1.37-1.37c-.4-.4-.92-.59-1.43-.59-.52 0-1.04.2-1.43.59L10.3 9.45l-7.72 7.72c-.78.78-.78 2.05 0 2.83L4 21.41c.39.39.9.59 1.41.59.51 0 1.02-.2 1.41-.59l7.78-7.78 2.81-2.81c.8-.78.8-2.07 0-2.86zM5.41 20L4 18.59l7.72-7.72 1.47 1.35L5.41 20z\"/>\n",
              "  </svg>\n",
              "      </button>\n",
              "      \n",
              "  <style>\n",
              "    .colab-df-container {\n",
              "      display:flex;\n",
              "      flex-wrap:wrap;\n",
              "      gap: 12px;\n",
              "    }\n",
              "\n",
              "    .colab-df-convert {\n",
              "      background-color: #E8F0FE;\n",
              "      border: none;\n",
              "      border-radius: 50%;\n",
              "      cursor: pointer;\n",
              "      display: none;\n",
              "      fill: #1967D2;\n",
              "      height: 32px;\n",
              "      padding: 0 0 0 0;\n",
              "      width: 32px;\n",
              "    }\n",
              "\n",
              "    .colab-df-convert:hover {\n",
              "      background-color: #E2EBFA;\n",
              "      box-shadow: 0px 1px 2px rgba(60, 64, 67, 0.3), 0px 1px 3px 1px rgba(60, 64, 67, 0.15);\n",
              "      fill: #174EA6;\n",
              "    }\n",
              "\n",
              "    [theme=dark] .colab-df-convert {\n",
              "      background-color: #3B4455;\n",
              "      fill: #D2E3FC;\n",
              "    }\n",
              "\n",
              "    [theme=dark] .colab-df-convert:hover {\n",
              "      background-color: #434B5C;\n",
              "      box-shadow: 0px 1px 3px 1px rgba(0, 0, 0, 0.15);\n",
              "      filter: drop-shadow(0px 1px 2px rgba(0, 0, 0, 0.3));\n",
              "      fill: #FFFFFF;\n",
              "    }\n",
              "  </style>\n",
              "\n",
              "      <script>\n",
              "        const buttonEl =\n",
              "          document.querySelector('#df-e12bab6d-a2c8-4bf9-9ba0-4eb790c8e529 button.colab-df-convert');\n",
              "        buttonEl.style.display =\n",
              "          google.colab.kernel.accessAllowed ? 'block' : 'none';\n",
              "\n",
              "        async function convertToInteractive(key) {\n",
              "          const element = document.querySelector('#df-e12bab6d-a2c8-4bf9-9ba0-4eb790c8e529');\n",
              "          const dataTable =\n",
              "            await google.colab.kernel.invokeFunction('convertToInteractive',\n",
              "                                                     [key], {});\n",
              "          if (!dataTable) return;\n",
              "\n",
              "          const docLinkHtml = 'Like what you see? Visit the ' +\n",
              "            '<a target=\"_blank\" href=https://colab.research.google.com/notebooks/data_table.ipynb>data table notebook</a>'\n",
              "            + ' to learn more about interactive tables.';\n",
              "          element.innerHTML = '';\n",
              "          dataTable['output_type'] = 'display_data';\n",
              "          await google.colab.output.renderOutput(dataTable, element);\n",
              "          const docLink = document.createElement('div');\n",
              "          docLink.innerHTML = docLinkHtml;\n",
              "          element.appendChild(docLink);\n",
              "        }\n",
              "      </script>\n",
              "    </div>\n",
              "  </div>\n",
              "  "
            ]
          },
          "metadata": {},
          "execution_count": 22
        }
      ],
      "source": [
        "#model history\n",
        "import pandas as pd\n",
        "loss_df = pd.DataFrame(DenseNet169_MODEL.history.history)\n",
        "loss_df"
      ]
    },
    {
      "cell_type": "code",
      "execution_count": 23,
      "metadata": {
        "id": "_wb8MHza9fUE"
      },
      "outputs": [],
      "source": [
        "#prediction on test data\n",
        "predictions = np.argmax(DenseNet169_MODEL.predict(test_set), axis = -1)"
      ]
    },
    {
      "cell_type": "code",
      "execution_count": 24,
      "metadata": {
        "colab": {
          "base_uri": "https://localhost:8080/"
        },
        "id": "cbKmyRRU9heL",
        "outputId": "1183b4df-ee57-4a1c-8f35-789c9d288ba0"
      },
      "outputs": [
        {
          "output_type": "stream",
          "name": "stdout",
          "text": [
            "              precision    recall  f1-score   support\n",
            "\n",
            "           0       0.88      0.88      0.88       362\n",
            "           1       0.89      0.83      0.86       602\n",
            "           2       0.90      0.94      0.92      1020\n",
            "           3       0.96      0.96      0.96       135\n",
            "\n",
            "    accuracy                           0.90      2119\n",
            "   macro avg       0.91      0.90      0.91      2119\n",
            "weighted avg       0.90      0.90      0.90      2119\n",
            "\n"
          ]
        }
      ],
      "source": [
        "#classification report\n",
        "print(classification_report(test_set.classes,predictions))"
      ]
    },
    {
      "cell_type": "code",
      "execution_count": 25,
      "metadata": {
        "id": "kJ2pLAUj9kZL"
      },
      "outputs": [],
      "source": [
        "# compute the confusion matrix and and use it to derive the raw\n",
        "# accuracy, sensitivity, and specificity\n",
        "cm = confusion_matrix(test_set.classes, predictions)\n",
        "sensitivity = cm[0, 0] / (cm[0, 0] + cm[0, 1])\n",
        "specificity = cm[1, 1] / (cm[1, 0] + cm[1, 1])"
      ]
    },
    {
      "cell_type": "code",
      "execution_count": 26,
      "metadata": {
        "colab": {
          "base_uri": "https://localhost:8080/",
          "height": 369
        },
        "id": "pluMtVOI9nAd",
        "outputId": "4884adde-2b71-4755-d0c2-a1f535e7ac86"
      },
      "outputs": [
        {
          "output_type": "stream",
          "name": "stdout",
          "text": [
            "[[319  16  27   0]\n",
            " [ 27 502  73   0]\n",
            " [ 16  43 955   6]\n",
            " [  1   0   4 130]]\n",
            "sensitivity: 0.9522\n",
            "specificity: 0.9490\n"
          ]
        },
        {
          "output_type": "display_data",
          "data": {
            "text/plain": [
              "<Figure size 432x288 with 2 Axes>"
            ],
            "image/png": "[encoded data removed]"
          },
          "metadata": {
            "needs_background": "light"
          }
        }
      ],
      "source": [
        "import seaborn as sns\n",
        "print(confusion_matrix(test_set.classes,predictions))\n",
        "sns.heatmap(confusion_matrix(test_set.classes,predictions), annot = True)\n",
        "# show the sensitivity, and specificity\n",
        "print(\"sensitivity: {:.4f}\".format(sensitivity))\n",
        "print(\"specificity: {:.4f}\".format(specificity))"
      ]
    }
  ],
  "metadata": {
    "accelerator": "GPU",
    "colab": {
      "collapsed_sections": [],
      "provenance": []
    },
    "gpuClass": "standard",
    "kernelspec": {
      "display_name": "Python 3",
      "name": "python3"
    },
    "language_info": {
      "name": "python"
    }
  },
  "nbformat": 4,
  "nbformat_minor": 0
}