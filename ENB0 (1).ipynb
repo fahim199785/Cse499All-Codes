{
  "cells": [
    {
      "cell_type": "code",
      "execution_count": 1,
      "metadata": {
        "id": "j25TSnoa-tcm"
      },
      "outputs": [],
      "source": [
        "import pandas as pd\n",
        "import numpy as np\n",
        "import tensorflow as tf\n",
        "from glob import glob\n",
        "import seaborn as sns\n",
        "import matplotlib.pyplot as plt\n",
        "import random\n",
        "import os\n",
        "import cv2\n",
        "\n",
        "!pip install opendatasets --upgrade --quiet\n",
        "import opendatasets as od"
      ]
    },
    {
      "cell_type": "code",
      "execution_count": 2,
      "metadata": {
        "id": "rye8641e_BsG"
      },
      "outputs": [],
      "source": [
        "from tensorflow import keras\n",
        "from tensorflow.keras.preprocessing.image import ImageDataGenerator\n",
        "from tensorflow.keras.layers import Conv2D\n",
        "from tensorflow.keras.layers import MaxPooling2D\n",
        "from tensorflow.keras.layers import AveragePooling2D\n",
        "from tensorflow.keras.layers import GlobalAveragePooling2D\n",
        "from tensorflow.keras.optimizers import RMSprop,Adam\n",
        "from tensorflow.keras.models import Sequential\n",
        "from tensorflow.keras.layers import Dropout\n",
        "from tensorflow.keras.layers import Flatten\n",
        "from tensorflow.keras.layers import Input\n",
        "from tensorflow.keras.layers import Dense\n",
        "from keras.layers.merge import concatenate\n",
        "from tensorflow.keras.models import Model\n",
        "from keras.preprocessing import image\n",
        "from keras.layers import Dense, Flatten, AveragePooling2D, Dropout\n",
        "from tensorflow.keras.optimizers import Adam\n",
        "from tensorflow.keras.utils import to_categorical\n",
        "from sklearn.preprocessing import LabelBinarizer\n",
        "from sklearn.model_selection import train_test_split\n",
        "from sklearn.metrics import classification_report\n",
        "from sklearn.model_selection import train_test_split\n",
        "from sklearn.metrics import confusion_matrix\n",
        "from imutils import paths\n",
        "import argparse"
      ]
    },
    {
      "cell_type": "code",
      "execution_count": 3,
      "metadata": {
        "colab": {
          "base_uri": "https://localhost:8080/"
        },
        "id": "8ZXvckMu_FKZ",
        "outputId": "ed62e361-afbf-4e86-eead-3593d62d70b2"
      },
      "outputs": [
        {
          "output_type": "stream",
          "name": "stdout",
          "text": [
            "Mounted at /content/drive\n"
          ]
        }
      ],
      "source": [
        "from google.colab import drive\n",
        "drive.mount('/content/drive')"
      ]
    },
    {
      "cell_type": "code",
      "execution_count": 4,
      "metadata": {
        "id": "sdRoNEIz_I_Y"
      },
      "outputs": [],
      "source": [
        "dataset_url = 'https://www.kaggle.com/datasets/tawsifurrahman/covid19-radiography-database?recency=last7Days'\n",
        "data_dir = '/content/COVID-19_Radiography_Dataset'"
      ]
    },
    {
      "cell_type": "code",
      "execution_count": 7,
      "metadata": {
        "colab": {
          "base_uri": "https://localhost:8080/"
        },
        "id": "YtvZElGl_Q5I",
        "outputId": "87bcd2e5-4fac-4c52-8b9f-3f13610e2cf4"
      },
      "outputs": [
        {
          "output_type": "stream",
          "name": "stdout",
          "text": [
            "Found 14814 images belonging to 4 classes.\n",
            "Found 4232 images belonging to 4 classes.\n",
            "Found 2119 images belonging to 4 classes.\n"
          ]
        }
      ],
      "source": [
        "#load training and testing dataset from directory\n",
        "train_datagen=ImageDataGenerator(rescale = 1./255,\n",
        "                                   rotation_range=15,\n",
        "                                   fill_mode=\"nearest\",\n",
        "                                   horizontal_flip = True)\n",
        "valid_datagen=ImageDataGenerator(rescale = 1./255)\n",
        "test_datagen=ImageDataGenerator(rescale = 1./255)\n",
        "\n",
        "training_set=train_datagen.flow_from_directory('/content/drive/MyDrive/output/train',\n",
        "                                                 target_size = (224, 224),\n",
        "                                                 batch_size = 64,\n",
        "                                                 class_mode = 'categorical',\n",
        "                                                 shuffle=True)\n",
        "valid_set=valid_datagen.flow_from_directory('/content/drive/MyDrive/output/val',\n",
        "                                            target_size = (224, 224),\n",
        "                                            batch_size = 64,\n",
        "                                            class_mode = 'categorical',\n",
        "                                            shuffle = False)\n",
        "test_set=test_datagen.flow_from_directory('/content/drive/MyDrive/output/test',\n",
        "                                            target_size = (224, 224),\n",
        "                                            batch_size = 64,\n",
        "                                            class_mode = 'categorical',\n",
        "                                            shuffle = False)"
      ]
    },
    {
      "cell_type": "code",
      "execution_count": 8,
      "metadata": {
        "colab": {
          "base_uri": "https://localhost:8080/"
        },
        "id": "YGbWwg4L_VkT",
        "outputId": "81e11726-c87e-4d00-cea6-9e374a6d18a6"
      },
      "outputs": [
        {
          "output_type": "stream",
          "name": "stdout",
          "text": [
            "{'COVID': 0, 'Lung_Opacity': 1, 'Normal': 2, 'Viral Pneumonia': 3}\n",
            "{'COVID': 0, 'Lung_Opacity': 1, 'Normal': 2, 'Viral Pneumonia': 3}\n",
            "{'COVID': 0, 'Lung_Opacity': 1, 'Normal': 2, 'Viral Pneumonia': 3}\n"
          ]
        }
      ],
      "source": [
        "print(training_set.class_indices)\n",
        "print(valid_set.class_indices)\n",
        "print(test_set.class_indices)"
      ]
    },
    {
      "cell_type": "code",
      "execution_count": 9,
      "metadata": {
        "colab": {
          "base_uri": "https://localhost:8080/"
        },
        "id": "4svo_Q7s_Z5O",
        "outputId": "be4b5a6a-799e-4f86-cad4-673a6c2d530b"
      },
      "outputs": [
        {
          "output_type": "stream",
          "name": "stdout",
          "text": [
            "Looking in indexes: https://pypi.org/simple, https://us-python.pkg.dev/colab-wheels/public/simple/\n",
            "Collecting efficientnet\n",
            "  Downloading efficientnet-1.1.1-py3-none-any.whl (18 kB)\n",
            "Collecting keras-applications<=1.0.8,>=1.0.7\n",
            "  Downloading Keras_Applications-1.0.8-py3-none-any.whl (50 kB)\n",
            "\u001b[K     |████████████████████████████████| 50 kB 4.6 MB/s \n",
            "\u001b[?25hRequirement already satisfied: scikit-image in /usr/local/lib/python3.7/dist-packages (from efficientnet) (0.18.3)\n",
            "Requirement already satisfied: h5py in /usr/local/lib/python3.7/dist-packages (from keras-applications<=1.0.8,>=1.0.7->efficientnet) (3.1.0)\n",
            "Requirement already satisfied: numpy>=1.9.1 in /usr/local/lib/python3.7/dist-packages (from keras-applications<=1.0.8,>=1.0.7->efficientnet) (1.21.6)\n",
            "Requirement already satisfied: cached-property in /usr/local/lib/python3.7/dist-packages (from h5py->keras-applications<=1.0.8,>=1.0.7->efficientnet) (1.5.2)\n",
            "Requirement already satisfied: imageio>=2.3.0 in /usr/local/lib/python3.7/dist-packages (from scikit-image->efficientnet) (2.4.1)\n",
            "Requirement already satisfied: pillow!=7.1.0,!=7.1.1,>=4.3.0 in /usr/local/lib/python3.7/dist-packages (from scikit-image->efficientnet) (7.1.2)\n",
            "Requirement already satisfied: networkx>=2.0 in /usr/local/lib/python3.7/dist-packages (from scikit-image->efficientnet) (2.6.3)\n",
            "Requirement already satisfied: PyWavelets>=1.1.1 in /usr/local/lib/python3.7/dist-packages (from scikit-image->efficientnet) (1.3.0)\n",
            "Requirement already satisfied: tifffile>=2019.7.26 in /usr/local/lib/python3.7/dist-packages (from scikit-image->efficientnet) (2021.11.2)\n",
            "Requirement already satisfied: scipy>=1.0.1 in /usr/local/lib/python3.7/dist-packages (from scikit-image->efficientnet) (1.4.1)\n",
            "Requirement already satisfied: matplotlib!=3.0.0,>=2.0.0 in /usr/local/lib/python3.7/dist-packages (from scikit-image->efficientnet) (3.2.2)\n",
            "Requirement already satisfied: cycler>=0.10 in /usr/local/lib/python3.7/dist-packages (from matplotlib!=3.0.0,>=2.0.0->scikit-image->efficientnet) (0.11.0)\n",
            "Requirement already satisfied: pyparsing!=2.0.4,!=2.1.2,!=2.1.6,>=2.0.1 in /usr/local/lib/python3.7/dist-packages (from matplotlib!=3.0.0,>=2.0.0->scikit-image->efficientnet) (3.0.9)\n",
            "Requirement already satisfied: python-dateutil>=2.1 in /usr/local/lib/python3.7/dist-packages (from matplotlib!=3.0.0,>=2.0.0->scikit-image->efficientnet) (2.8.2)\n",
            "Requirement already satisfied: kiwisolver>=1.0.1 in /usr/local/lib/python3.7/dist-packages (from matplotlib!=3.0.0,>=2.0.0->scikit-image->efficientnet) (1.4.3)\n",
            "Requirement already satisfied: typing-extensions in /usr/local/lib/python3.7/dist-packages (from kiwisolver>=1.0.1->matplotlib!=3.0.0,>=2.0.0->scikit-image->efficientnet) (4.1.1)\n",
            "Requirement already satisfied: six>=1.5 in /usr/local/lib/python3.7/dist-packages (from python-dateutil>=2.1->matplotlib!=3.0.0,>=2.0.0->scikit-image->efficientnet) (1.15.0)\n",
            "Installing collected packages: keras-applications, efficientnet\n",
            "Successfully installed efficientnet-1.1.1 keras-applications-1.0.8\n"
          ]
        }
      ],
      "source": [
        "!pip install -U efficientnet"
      ]
    },
    {
      "cell_type": "code",
      "execution_count": 10,
      "metadata": {
        "colab": {
          "base_uri": "https://localhost:8080/"
        },
        "id": "iOZHbbQs_doV",
        "outputId": "a95f463c-e953-41e2-a43c-b0655748d85f"
      },
      "outputs": [
        {
          "output_type": "stream",
          "name": "stdout",
          "text": [
            "Model: \"sequential\"\n",
            "_________________________________________________________________\n",
            " Layer (type)                Output Shape              Param #   \n",
            "=================================================================\n",
            " efficientnet-b0 (Functional  (None, 7, 7, 1280)       4049564   \n",
            " )                                                               \n",
            "                                                                 \n",
            " global_average_pooling2d (G  (None, 1280)             0         \n",
            " lobalAveragePooling2D)                                          \n",
            "                                                                 \n",
            " dropout (Dropout)           (None, 1280)              0         \n",
            "                                                                 \n",
            " dense (Dense)               (None, 4)                 5124      \n",
            "                                                                 \n",
            "=================================================================\n",
            "Total params: 4,054,688\n",
            "Trainable params: 4,012,672\n",
            "Non-trainable params: 42,016\n",
            "_________________________________________________________________\n"
          ]
        }
      ],
      "source": [
        "import efficientnet.keras as efn \n",
        "\n",
        "efnb0 = efn.EfficientNetB0(input_shape=(224,224,3), include_top=False, weights=None)\n",
        "EfficientNetB0 = Sequential()\n",
        "EfficientNetB0.add(efnb0)\n",
        "EfficientNetB0.add(GlobalAveragePooling2D())\n",
        "EfficientNetB0.add(Dropout(0.2))\n",
        "EfficientNetB0.add(Dense(4, activation = 'softmax'))\n",
        "\n",
        "EfficientNetB0.summary()"
      ]
    },
    {
      "cell_type": "code",
      "execution_count": 11,
      "metadata": {
        "id": "Zqo8SsmU_hMa"
      },
      "outputs": [],
      "source": [
        "EfficientNetB0.compile(optimizer= tf.keras.optimizers.Adam(0.001),\n",
        "              loss='categorical_crossentropy',\n",
        "              metrics=['accuracy','Precision','Recall'])"
      ]
    },
    {
      "cell_type": "code",
      "execution_count": 12,
      "metadata": {
        "id": "Pk9z6bY3_kfT"
      },
      "outputs": [],
      "source": [
        "#For avoiding overfitting\n",
        "early = tf.keras.callbacks.EarlyStopping(monitor='val_loss',patience=5)"
      ]
    },
    {
      "cell_type": "code",
      "execution_count": 13,
      "metadata": {
        "colab": {
          "base_uri": "https://localhost:8080/"
        },
        "id": "fPR0esy3_vL1",
        "outputId": "98172044-da2a-4f41-864e-6b63d6b30fd6"
      },
      "outputs": [
        {
          "output_type": "stream",
          "name": "stderr",
          "text": [
            "/usr/local/lib/python3.7/dist-packages/ipykernel_launcher.py:4: UserWarning: `Model.fit_generator` is deprecated and will be removed in a future version. Please use `Model.fit`, which supports generators.\n",
            "  after removing the cwd from sys.path.\n"
          ]
        },
        {
          "output_type": "stream",
          "name": "stdout",
          "text": [
            "Epoch 1/100\n",
            "232/232 [==============================] - 294s 1s/step - loss: 0.8254 - accuracy: 0.6843 - precision: 0.7460 - recall: 0.6000 - val_loss: 1.9658 - val_accuracy: 0.2859 - val_precision: 0.2858 - val_recall: 0.2356\n",
            "Epoch 2/100\n",
            "232/232 [==============================] - 257s 1s/step - loss: 0.5232 - accuracy: 0.8012 - precision: 0.8242 - recall: 0.7755 - val_loss: 0.6000 - val_accuracy: 0.7878 - val_precision: 0.8003 - val_recall: 0.7680\n",
            "Epoch 3/100\n",
            "232/232 [==============================] - 258s 1s/step - loss: 0.4329 - accuracy: 0.8393 - precision: 0.8533 - recall: 0.8228 - val_loss: 2.7059 - val_accuracy: 0.3100 - val_precision: 0.3071 - val_recall: 0.2984\n",
            "Epoch 4/100\n",
            "232/232 [==============================] - 255s 1s/step - loss: 0.3780 - accuracy: 0.8578 - precision: 0.8697 - recall: 0.8464 - val_loss: 0.5493 - val_accuracy: 0.7906 - val_precision: 0.7992 - val_recall: 0.7798\n",
            "Epoch 5/100\n",
            "232/232 [==============================] - 255s 1s/step - loss: 0.3371 - accuracy: 0.8746 - precision: 0.8839 - recall: 0.8652 - val_loss: 0.4622 - val_accuracy: 0.8171 - val_precision: 0.8306 - val_recall: 0.8027\n",
            "Epoch 6/100\n",
            "232/232 [==============================] - 255s 1s/step - loss: 0.3084 - accuracy: 0.8893 - precision: 0.8958 - recall: 0.8813 - val_loss: 0.7386 - val_accuracy: 0.7396 - val_precision: 0.7490 - val_recall: 0.7283\n",
            "Epoch 7/100\n",
            "232/232 [==============================] - 255s 1s/step - loss: 0.2824 - accuracy: 0.8973 - precision: 0.9024 - recall: 0.8907 - val_loss: 0.5067 - val_accuracy: 0.8169 - val_precision: 0.8258 - val_recall: 0.8065\n",
            "Epoch 8/100\n",
            "232/232 [==============================] - 256s 1s/step - loss: 0.2620 - accuracy: 0.9050 - precision: 0.9108 - recall: 0.8998 - val_loss: 0.4249 - val_accuracy: 0.8521 - val_precision: 0.8594 - val_recall: 0.8419\n",
            "Epoch 9/100\n",
            "232/232 [==============================] - 255s 1s/step - loss: 0.2541 - accuracy: 0.9076 - precision: 0.9118 - recall: 0.9026 - val_loss: 0.3014 - val_accuracy: 0.8901 - val_precision: 0.8956 - val_recall: 0.8840\n",
            "Epoch 10/100\n",
            "232/232 [==============================] - 254s 1s/step - loss: 0.2394 - accuracy: 0.9110 - precision: 0.9147 - recall: 0.9073 - val_loss: 0.3009 - val_accuracy: 0.8939 - val_precision: 0.8980 - val_recall: 0.8887\n",
            "Epoch 11/100\n",
            "232/232 [==============================] - 253s 1s/step - loss: 0.2255 - accuracy: 0.9160 - precision: 0.9202 - recall: 0.9120 - val_loss: 0.3317 - val_accuracy: 0.8830 - val_precision: 0.8875 - val_recall: 0.8764\n",
            "Epoch 12/100\n",
            "232/232 [==============================] - 252s 1s/step - loss: 0.2184 - accuracy: 0.9203 - precision: 0.9235 - recall: 0.9176 - val_loss: 0.2245 - val_accuracy: 0.9218 - val_precision: 0.9241 - val_recall: 0.9173\n",
            "Epoch 13/100\n",
            "232/232 [==============================] - 254s 1s/step - loss: 0.2106 - accuracy: 0.9237 - precision: 0.9266 - recall: 0.9208 - val_loss: 0.2982 - val_accuracy: 0.8967 - val_precision: 0.9025 - val_recall: 0.8906\n",
            "Epoch 14/100\n",
            "232/232 [==============================] - 255s 1s/step - loss: 0.1995 - accuracy: 0.9297 - precision: 0.9323 - recall: 0.9272 - val_loss: 0.3522 - val_accuracy: 0.8731 - val_precision: 0.8793 - val_recall: 0.8663\n",
            "Epoch 15/100\n",
            "232/232 [==============================] - 254s 1s/step - loss: 0.1914 - accuracy: 0.9299 - precision: 0.9330 - recall: 0.9277 - val_loss: 0.3444 - val_accuracy: 0.8755 - val_precision: 0.8811 - val_recall: 0.8700\n",
            "Epoch 16/100\n",
            "232/232 [==============================] - 255s 1s/step - loss: 0.1871 - accuracy: 0.9313 - precision: 0.9341 - recall: 0.9294 - val_loss: 0.2195 - val_accuracy: 0.9230 - val_precision: 0.9248 - val_recall: 0.9206\n",
            "Epoch 17/100\n",
            "232/232 [==============================] - 253s 1s/step - loss: 0.1805 - accuracy: 0.9344 - precision: 0.9362 - recall: 0.9322 - val_loss: 0.3345 - val_accuracy: 0.8927 - val_precision: 0.8965 - val_recall: 0.8920\n",
            "Epoch 18/100\n",
            "232/232 [==============================] - 253s 1s/step - loss: 0.1721 - accuracy: 0.9393 - precision: 0.9421 - recall: 0.9373 - val_loss: 0.2203 - val_accuracy: 0.9159 - val_precision: 0.9202 - val_recall: 0.9123\n",
            "Epoch 19/100\n",
            "232/232 [==============================] - 252s 1s/step - loss: 0.1719 - accuracy: 0.9387 - precision: 0.9407 - recall: 0.9366 - val_loss: 0.3588 - val_accuracy: 0.8835 - val_precision: 0.8885 - val_recall: 0.8795\n",
            "Epoch 20/100\n",
            "232/232 [==============================] - 254s 1s/step - loss: 0.1679 - accuracy: 0.9389 - precision: 0.9412 - recall: 0.9376 - val_loss: 0.2349 - val_accuracy: 0.9208 - val_precision: 0.9218 - val_recall: 0.9190\n",
            "Epoch 21/100\n",
            "232/232 [==============================] - 253s 1s/step - loss: 0.1540 - accuracy: 0.9451 - precision: 0.9465 - recall: 0.9424 - val_loss: 0.3064 - val_accuracy: 0.9017 - val_precision: 0.9054 - val_recall: 0.8998\n"
          ]
        }
      ],
      "source": [
        "EfficientNetB0.compile(optimizer= Adam(learning_rate = 0.001),\n",
        "              loss='categorical_crossentropy',\n",
        "              metrics=['accuracy','Precision','Recall'])\n",
        "history = EfficientNetB0.fit_generator(training_set, validation_data = valid_set, epochs=100, verbose=1, callbacks=[early])"
      ]
    },
    {
      "cell_type": "code",
      "execution_count": 14,
      "metadata": {
        "id": "WbXDyA4F_y5T",
        "colab": {
          "base_uri": "https://localhost:8080/"
        },
        "outputId": "f9a9cb44-a99d-4e49-a4b8-d7f26179f739"
      },
      "outputs": [
        {
          "output_type": "stream",
          "name": "stdout",
          "text": [
            "34/34 [==============================] - 9s 264ms/step - loss: 0.2912 - accuracy: 0.9023 - precision: 0.9051 - recall: 0.9004\n"
          ]
        },
        {
          "output_type": "execute_result",
          "data": {
            "text/plain": [
              "[0.2911936044692993,\n",
              " 0.9023123979568481,\n",
              " 0.9051233530044556,\n",
              " 0.9004247188568115]"
            ]
          },
          "metadata": {},
          "execution_count": 14
        }
      ],
      "source": [
        "EfficientNetB0.evaluate(test_set, verbose=1)\n"
      ]
    },
    {
      "cell_type": "code",
      "execution_count": 15,
      "metadata": {
        "id": "83pvgcsn_3SU"
      },
      "outputs": [],
      "source": [
        "EfficientNetB0.save('EfficientNetB0.h5')"
      ]
    },
    {
      "cell_type": "code",
      "execution_count": 16,
      "metadata": {
        "id": "JzoVmLxV_5-t"
      },
      "outputs": [],
      "source": [
        "#Accuracy, val_acc, loss, val_loss, epoch_range\n",
        "acc = history.history['accuracy']\n",
        "val_acc = history.history['val_accuracy']     #history2.history['accuracy']\n",
        "loss = history.history['loss']\n",
        "val_loss = history.history['val_loss']\n",
        "epochs=range(len(acc))"
      ]
    },
    {
      "cell_type": "code",
      "execution_count": 17,
      "metadata": {
        "id": "AaGZyufz_8xB",
        "colab": {
          "base_uri": "https://localhost:8080/"
        },
        "outputId": "73da6109-0a9c-4292-b20a-91bbe995e841"
      },
      "outputs": [
        {
          "output_type": "stream",
          "name": "stdout",
          "text": [
            "accuracy:  [0.6842851638793945, 0.801201581954956, 0.8393411636352539, 0.8578372001647949, 0.8745781183242798, 0.889293909072876, 0.8972593545913696, 0.9050222635269165, 0.9075874090194702, 0.9109625816345215, 0.9159578680992126, 0.9202781319618225, 0.9236533045768738, 0.9296611547470093, 0.9299311637878418, 0.9312812089920044, 0.9343863725662231, 0.9393141865730286, 0.938706636428833, 0.938909113407135, 0.9451195001602173]\n",
            "validation accuracy:  [0.28591683506965637, 0.7878071665763855, 0.3100188970565796, 0.7906427383422852, 0.8171077370643616, 0.7396030426025391, 0.8168714642524719, 0.8520793914794922, 0.8901228904724121, 0.8939036130905151, 0.8830340504646301, 0.921786367893219, 0.89673912525177, 0.8731096386909485, 0.8754726052284241, 0.9229678511619568, 0.8927221298217773, 0.9158790111541748, 0.8835065960884094, 0.9208412170410156, 0.9017013311386108]\n",
            "loss:  [0.8254039287567139, 0.5231509804725647, 0.43290531635284424, 0.3780078589916229, 0.33713701367378235, 0.30842509865760803, 0.28241419792175293, 0.26203492283821106, 0.2540881037712097, 0.23939070105552673, 0.22553417086601257, 0.2183629423379898, 0.21063904464244843, 0.19951283931732178, 0.19142162799835205, 0.18713657557964325, 0.18051525950431824, 0.1721104383468628, 0.17187221348285675, 0.16788148880004883, 0.15395234525203705]\n",
            "validation loss:  [1.9658129215240479, 0.6000186204910278, 2.705939769744873, 0.5493414998054504, 0.4622325003147125, 0.7385813593864441, 0.5067158937454224, 0.42493584752082825, 0.3013588786125183, 0.30094072222709656, 0.3316691219806671, 0.22453059256076813, 0.2982073128223419, 0.3521701395511627, 0.34438082575798035, 0.21954523026943207, 0.33445480465888977, 0.22034934163093567, 0.35883697867393494, 0.2348892241716385, 0.3064419627189636]\n",
            "epochs:  range(0, 21)\n"
          ]
        }
      ],
      "source": [
        "print(\"accuracy: \",acc)\n",
        "print(\"validation accuracy: \",val_acc)\n",
        "print(\"loss: \",loss)\n",
        "print(\"validation loss: \",val_loss)\n",
        "print(\"epochs: \",epochs)"
      ]
    },
    {
      "cell_type": "code",
      "execution_count": 18,
      "metadata": {
        "id": "UEtD_LnWAAhx",
        "colab": {
          "base_uri": "https://localhost:8080/",
          "height": 298
        },
        "outputId": "bcac0cb9-ff41-4471-a6ea-f77fc1f43046"
      },
      "outputs": [
        {
          "output_type": "execute_result",
          "data": {
            "text/plain": [
              "Text(0.5, 1.0, 'Training and Validation Accuracy')"
            ]
          },
          "metadata": {},
          "execution_count": 18
        },
        {
          "output_type": "display_data",
          "data": {
            "text/plain": [
              "<Figure size 432x288 with 1 Axes>"
            ],
            "image/png": "[encoded data removed]"
          },
          "metadata": {
            "needs_background": "light"
          }
        }
      ],
      "source": [
        "#plot training nad validation accuracy\n",
        "plt.plot(epochs,acc,label='Training_acc',color='blue')\n",
        "plt.plot(epochs,val_acc,label='Validation_acc',color='red')\n",
        "plt.legend()\n",
        "plt.title(\"Training and Validation Accuracy\")"
      ]
    },
    {
      "cell_type": "code",
      "execution_count": 19,
      "metadata": {
        "id": "nFY6uL0iAD7h",
        "colab": {
          "base_uri": "https://localhost:8080/",
          "height": 298
        },
        "outputId": "8245d75a-6d94-4777-bf22-67b6e44c387a"
      },
      "outputs": [
        {
          "output_type": "execute_result",
          "data": {
            "text/plain": [
              "Text(0.5, 1.0, 'Training and Validation loss')"
            ]
          },
          "metadata": {},
          "execution_count": 19
        },
        {
          "output_type": "display_data",
          "data": {
            "text/plain": [
              "<Figure size 432x288 with 1 Axes>"
            ],
            "image/png": "[encoded data removed]"
          },
          "metadata": {
            "needs_background": "light"
          }
        }
      ],
      "source": [
        "#training and validation loss\n",
        "plt.plot(epochs,loss,label='Training_loss',color='blue')\n",
        "plt.plot(epochs,val_loss,label='Validation_loss',color='red')\n",
        "plt.legend()\n",
        "plt.title(\"Training and Validation loss\")"
      ]
    },
    {
      "cell_type": "code",
      "execution_count": 20,
      "metadata": {
        "id": "VZ715frTAHsF",
        "colab": {
          "base_uri": "https://localhost:8080/",
          "height": 1000
        },
        "outputId": "730ce909-0b31-41c7-c122-8499578faac6"
      },
      "outputs": [
        {
          "output_type": "display_data",
          "data": {
            "text/plain": [
              "<Figure size 432x288 with 1 Axes>"
            ],
            "image/png": "[encoded data removed]"
          },
          "metadata": {
            "needs_background": "light"
          }
        },
        {
          "output_type": "display_data",
          "data": {
            "text/plain": [
              "<Figure size 432x288 with 1 Axes>"
            ],
            "image/png": "[encoded data removed]"
          },
          "metadata": {
            "needs_background": "light"
          }
        },
        {
          "output_type": "display_data",
          "data": {
            "text/plain": [
              "<Figure size 432x288 with 1 Axes>"
            ],
            "image/png": "[encoded data removed]"
          },
          "metadata": {
            "needs_background": "light"
          }
        },
        {
          "output_type": "display_data",
          "data": {
            "text/plain": [
              "<Figure size 432x288 with 1 Axes>"
            ],
            "image/png": "[encoded data removed]"
          },
          "metadata": {
            "needs_background": "light"
          }
        }
      ],
      "source": [
        "acc = history.history['accuracy']\n",
        "val_acc = history.history['val_accuracy']\n",
        "\n",
        "train_precision=history.history['precision']\n",
        "val_precision=history.history['val_precision']\n",
        "\n",
        "train_recall=history.history['recall']\n",
        "val_recall=history.history['val_recall']\n",
        "\n",
        "loss = history.history['loss']\n",
        "val_loss = history.history['val_loss']\n",
        "\n",
        "epochs = range(len(acc))\n",
        "\n",
        "plt.plot(epochs, acc, 'r', label='Training accuracy')\n",
        "plt.plot(epochs, val_acc, 'b', label='Validation accuracy')\n",
        "plt.title('Training and validation accuracy')\n",
        "plt.legend()\n",
        "plt.figure()\n",
        "\n",
        "plt.plot(epochs, train_precision, 'r', label='Training precision')\n",
        "plt.plot(epochs, val_precision, 'b', label='Validation precision')\n",
        "plt.title('Training and validation precision')\n",
        "plt.legend()\n",
        "plt.figure()\n",
        "\n",
        "plt.plot(epochs, train_recall, 'r', label='Training recall')\n",
        "plt.plot(epochs, val_recall, 'b', label='Validation recall')\n",
        "plt.title('Training and validation recall')\n",
        "plt.legend()\n",
        "plt.figure()\n",
        "\n",
        "plt.plot(epochs, loss, 'r', label='Training Loss')\n",
        "plt.plot(epochs, val_loss, 'b', label='Validation Loss')\n",
        "plt.title('Training and validation loss')\n",
        "plt.legend()\n",
        "\n",
        "plt.show()"
      ]
    },
    {
      "cell_type": "code",
      "execution_count": 21,
      "metadata": {
        "id": "LwY_LHBGAM_o",
        "colab": {
          "base_uri": "https://localhost:8080/",
          "height": 49
        },
        "outputId": "de6fbaea-c47c-49f9-a404-8fa10ae009d7"
      },
      "outputs": [
        {
          "output_type": "execute_result",
          "data": {
            "text/plain": [
              "Empty DataFrame\n",
              "Columns: []\n",
              "Index: []"
            ],
            "text/html": [
              "\n",
              "  <div id=\"df-9c9e24cf-fa9a-428e-8e92-eb2a4c40063f\">\n",
              "    <div class=\"colab-df-container\">\n",
              "      <div>\n",
              "<style scoped>\n",
              "    .dataframe tbody tr th:only-of-type {\n",
              "        vertical-align: middle;\n",
              "    }\n",
              "\n",
              "    .dataframe tbody tr th {\n",
              "        vertical-align: top;\n",
              "    }\n",
              "\n",
              "    .dataframe thead th {\n",
              "        text-align: right;\n",
              "    }\n",
              "</style>\n",
              "<table border=\"1\" class=\"dataframe\">\n",
              "  <thead>\n",
              "    <tr style=\"text-align: right;\">\n",
              "      <th></th>\n",
              "    </tr>\n",
              "  </thead>\n",
              "  <tbody>\n",
              "  </tbody>\n",
              "</table>\n",
              "</div>\n",
              "      <button class=\"colab-df-convert\" onclick=\"convertToInteractive('df-9c9e24cf-fa9a-428e-8e92-eb2a4c40063f')\"\n",
              "              title=\"Convert this dataframe to an interactive table.\"\n",
              "              style=\"display:none;\">\n",
              "        \n",
              "  <svg xmlns=\"http://www.w3.org/2000/svg\" height=\"24px\"viewBox=\"0 0 24 24\"\n",
              "       width=\"24px\">\n",
              "    <path d=\"M0 0h24v24H0V0z\" fill=\"none\"/>\n",
              "    <path d=\"M18.56 5.44l.94 2.06.94-2.06 2.06-.94-2.06-.94-.94-2.06-.94 2.06-2.06.94zm-11 1L8.5 8.5l.94-2.06 2.06-.94-2.06-.94L8.5 2.5l-.94 2.06-2.06.94zm10 10l.94 2.06.94-2.06 2.06-.94-2.06-.94-.94-2.06-.94 2.06-2.06.94z\"/><path d=\"M17.41 7.96l-1.37-1.37c-.4-.4-.92-.59-1.43-.59-.52 0-1.04.2-1.43.59L10.3 9.45l-7.72 7.72c-.78.78-.78 2.05 0 2.83L4 21.41c.39.39.9.59 1.41.59.51 0 1.02-.2 1.41-.59l7.78-7.78 2.81-2.81c.8-.78.8-2.07 0-2.86zM5.41 20L4 18.59l7.72-7.72 1.47 1.35L5.41 20z\"/>\n",
              "  </svg>\n",
              "      </button>\n",
              "      \n",
              "  <style>\n",
              "    .colab-df-container {\n",
              "      display:flex;\n",
              "      flex-wrap:wrap;\n",
              "      gap: 12px;\n",
              "    }\n",
              "\n",
              "    .colab-df-convert {\n",
              "      background-color: #E8F0FE;\n",
              "      border: none;\n",
              "      border-radius: 50%;\n",
              "      cursor: pointer;\n",
              "      display: none;\n",
              "      fill: #1967D2;\n",
              "      height: 32px;\n",
              "      padding: 0 0 0 0;\n",
              "      width: 32px;\n",
              "    }\n",
              "\n",
              "    .colab-df-convert:hover {\n",
              "      background-color: #E2EBFA;\n",
              "      box-shadow: 0px 1px 2px rgba(60, 64, 67, 0.3), 0px 1px 3px 1px rgba(60, 64, 67, 0.15);\n",
              "      fill: #174EA6;\n",
              "    }\n",
              "\n",
              "    [theme=dark] .colab-df-convert {\n",
              "      background-color: #3B4455;\n",
              "      fill: #D2E3FC;\n",
              "    }\n",
              "\n",
              "    [theme=dark] .colab-df-convert:hover {\n",
              "      background-color: #434B5C;\n",
              "      box-shadow: 0px 1px 3px 1px rgba(0, 0, 0, 0.15);\n",
              "      filter: drop-shadow(0px 1px 2px rgba(0, 0, 0, 0.3));\n",
              "      fill: #FFFFFF;\n",
              "    }\n",
              "  </style>\n",
              "\n",
              "      <script>\n",
              "        const buttonEl =\n",
              "          document.querySelector('#df-9c9e24cf-fa9a-428e-8e92-eb2a4c40063f button.colab-df-convert');\n",
              "        buttonEl.style.display =\n",
              "          google.colab.kernel.accessAllowed ? 'block' : 'none';\n",
              "\n",
              "        async function convertToInteractive(key) {\n",
              "          const element = document.querySelector('#df-9c9e24cf-fa9a-428e-8e92-eb2a4c40063f');\n",
              "          const dataTable =\n",
              "            await google.colab.kernel.invokeFunction('convertToInteractive',\n",
              "                                                     [key], {});\n",
              "          if (!dataTable) return;\n",
              "\n",
              "          const docLinkHtml = 'Like what you see? Visit the ' +\n",
              "            '<a target=\"_blank\" href=https://colab.research.google.com/notebooks/data_table.ipynb>data table notebook</a>'\n",
              "            + ' to learn more about interactive tables.';\n",
              "          element.innerHTML = '';\n",
              "          dataTable['output_type'] = 'display_data';\n",
              "          await google.colab.output.renderOutput(dataTable, element);\n",
              "          const docLink = document.createElement('div');\n",
              "          docLink.innerHTML = docLinkHtml;\n",
              "          element.appendChild(docLink);\n",
              "        }\n",
              "      </script>\n",
              "    </div>\n",
              "  </div>\n",
              "  "
            ]
          },
          "metadata": {},
          "execution_count": 21
        }
      ],
      "source": [
        "#model history\n",
        "import pandas as pd\n",
        "loss_df = pd.DataFrame(EfficientNetB0.history.history)\n",
        "loss_df"
      ]
    },
    {
      "cell_type": "code",
      "execution_count": 22,
      "metadata": {
        "id": "Y-fFsEGlAQH4"
      },
      "outputs": [],
      "source": [
        "#prediction on test data\n",
        "predictions = np.argmax(EfficientNetB0.predict(test_set), axis = -1)"
      ]
    },
    {
      "cell_type": "code",
      "execution_count": 23,
      "metadata": {
        "id": "0FSOCJcKAS8x",
        "colab": {
          "base_uri": "https://localhost:8080/"
        },
        "outputId": "cfa2452a-214f-4617-db81-59313dd0c393"
      },
      "outputs": [
        {
          "output_type": "stream",
          "name": "stdout",
          "text": [
            "              precision    recall  f1-score   support\n",
            "\n",
            "           0       0.84      0.87      0.85       362\n",
            "           1       0.92      0.83      0.87       602\n",
            "           2       0.91      0.95      0.93      1020\n",
            "           3       0.95      0.96      0.96       135\n",
            "\n",
            "    accuracy                           0.90      2119\n",
            "   macro avg       0.90      0.90      0.90      2119\n",
            "weighted avg       0.90      0.90      0.90      2119\n",
            "\n"
          ]
        }
      ],
      "source": [
        "#classification report\n",
        "print(classification_report(test_set.classes,predictions))"
      ]
    },
    {
      "cell_type": "code",
      "execution_count": 24,
      "metadata": {
        "id": "1zxKYSTEAW-S"
      },
      "outputs": [],
      "source": [
        "# compute the confusion matrix and and use it to derive the raw\n",
        "# accuracy, sensitivity, and specificity\n",
        "cm = confusion_matrix(test_set.classes, predictions)\n",
        "sensitivity = cm[0, 0] / (cm[0, 0] + cm[0, 1])\n",
        "specificity = cm[1, 1] / (cm[1, 0] + cm[1, 1])"
      ]
    },
    {
      "cell_type": "code",
      "execution_count": 25,
      "metadata": {
        "id": "9brCRDX3AgmP",
        "colab": {
          "base_uri": "https://localhost:8080/",
          "height": 369
        },
        "outputId": "7a85928c-d14e-4455-d2b0-4942ad4d983b"
      },
      "outputs": [
        {
          "output_type": "stream",
          "name": "stdout",
          "text": [
            "[[315  20  25   2]\n",
            " [ 37 501  64   0]\n",
            " [ 23  26 966   5]\n",
            " [  1   0   4 130]]\n",
            "sensitivity: 0.9403\n",
            "specificity: 0.9312\n"
          ]
        },
        {
          "output_type": "display_data",
          "data": {
            "text/plain": [
              "<Figure size 432x288 with 2 Axes>"
            ],
            "image/png": "[encoded data removed]"
          },
          "metadata": {
            "needs_background": "light"
          }
        }
      ],
      "source": [
        "import seaborn as sns\n",
        "print(confusion_matrix(test_set.classes,predictions))\n",
        "sns.heatmap(confusion_matrix(test_set.classes,predictions), annot = True)\n",
        "# show the sensitivity, and specificity\n",
        "print(\"sensitivity: {:.4f}\".format(sensitivity))\n",
        "print(\"specificity: {:.4f}\".format(specificity))"
      ]
    }
  ],
  "metadata": {
    "accelerator": "GPU",
    "colab": {
      "name": "ENB0.ipynb",
      "provenance": [],
      "collapsed_sections": []
    },
    "gpuClass": "standard",
    "kernelspec": {
      "display_name": "Python 3",
      "name": "python3"
    },
    "language_info": {
      "name": "python"
    }
  },
  "nbformat": 4,
  "nbformat_minor": 0
}