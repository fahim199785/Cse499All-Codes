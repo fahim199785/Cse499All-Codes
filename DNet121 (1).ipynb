{
  "nbformat": 4,
  "nbformat_minor": 0,
  "metadata": {
    "colab": {
      "name": "DNet121.ipynb",
      "provenance": [],
      "collapsed_sections": []
    },
    "kernelspec": {
      "name": "python3",
      "display_name": "Python 3"
    },
    "language_info": {
      "name": "python"
    },
    "accelerator": "GPU",
    "gpuClass": "standard"
  },
  "cells": [
    {
      "cell_type": "code",
      "execution_count": 1,
      "metadata": {
        "id": "vsrDUOhubL7U"
      },
      "outputs": [],
      "source": [
        "# import the necessary packages\n",
        "import tensorflow as tf\n",
        "from tensorflow import keras\n",
        "from tensorflow.keras.preprocessing.image import ImageDataGenerator\n",
        "from tensorflow.keras.layers import Conv2D\n",
        "from tensorflow.keras.layers import MaxPooling2D\n",
        "from tensorflow.keras.layers import AveragePooling2D\n",
        "from tensorflow.keras.layers import GlobalAveragePooling2D\n",
        "from tensorflow.keras.models import Sequential\n",
        "from tensorflow.keras.layers import Dropout\n",
        "from tensorflow.keras.layers import Flatten\n",
        "from tensorflow.keras.layers import Input\n",
        "from tensorflow.keras.layers import Dense\n",
        "from keras.layers.merge import concatenate\n",
        "from tensorflow.keras.models import Model\n",
        "from tensorflow.keras.optimizers import Adam\n",
        "from tensorflow.keras.utils import to_categorical\n",
        "from sklearn.preprocessing import LabelBinarizer\n",
        "from sklearn.model_selection import train_test_split\n",
        "from sklearn.metrics import classification_report\n",
        "from sklearn.metrics import confusion_matrix\n",
        "from imutils import paths\n",
        "import matplotlib.pyplot as plt\n",
        "import numpy as np\n",
        "import argparse\n",
        "import cv2\n",
        "import os"
      ]
    },
    {
      "cell_type": "code",
      "source": [
        "from google.colab import drive\n",
        "drive.mount('/content/drive')"
      ],
      "metadata": {
        "colab": {
          "base_uri": "https://localhost:8080/"
        },
        "id": "VT1qlsK9bVob",
        "outputId": "c2c060ba-309b-4698-f31d-001526a12000"
      },
      "execution_count": 2,
      "outputs": [
        {
          "output_type": "stream",
          "name": "stdout",
          "text": [
            "Drive already mounted at /content/drive; to attempt to forcibly remount, call drive.mount(\"/content/drive\", force_remount=True).\n"
          ]
        }
      ]
    },
    {
      "cell_type": "code",
      "source": [
        "dataset_url = 'https://www.kaggle.com/datasets/tawsifurrahman/covid19-radiography-database?recency=last7Days'\n",
        "data_dir = '/content/COVID-19_Radiography_Dataset'\n"
      ],
      "metadata": {
        "id": "ldtU54IUbaVr"
      },
      "execution_count": 3,
      "outputs": []
    },
    {
      "cell_type": "code",
      "source": [
        "#load training and testing dataset from directory\n",
        "train_datagen=ImageDataGenerator(rescale = 1./255,\n",
        "                                   rotation_range=15,\n",
        "                                   fill_mode=\"nearest\",\n",
        "                                   horizontal_flip = True)\n",
        "valid_datagen=ImageDataGenerator(rescale = 1./255)\n",
        "test_datagen=ImageDataGenerator(rescale = 1./255)\n",
        "\n",
        "training_set=train_datagen.flow_from_directory('/content/drive/MyDrive/output/train',\n",
        "                                                 target_size = (224, 224),\n",
        "                                                 batch_size = 64,\n",
        "                                                 class_mode = 'categorical',\n",
        "                                                 shuffle=True)\n",
        "valid_set=valid_datagen.flow_from_directory('/content/drive/MyDrive/output/val',\n",
        "                                            target_size = (224, 224),\n",
        "                                            batch_size = 64,\n",
        "                                            class_mode = 'categorical',\n",
        "                                            shuffle = False)\n",
        "test_set=test_datagen.flow_from_directory('/content/drive/MyDrive/output/test',\n",
        "                                            target_size = (224, 224),\n",
        "                                            batch_size = 64,\n",
        "                                            class_mode = 'categorical',\n",
        "                                            shuffle = False)"
      ],
      "metadata": {
        "colab": {
          "base_uri": "https://localhost:8080/"
        },
        "id": "HTycHckSbd4P",
        "outputId": "93d9a1ab-771b-4910-ccfe-0ea0148cfc48"
      },
      "execution_count": 6,
      "outputs": [
        {
          "output_type": "stream",
          "name": "stdout",
          "text": [
            "Found 14814 images belonging to 4 classes.\n",
            "Found 4232 images belonging to 4 classes.\n",
            "Found 2119 images belonging to 4 classes.\n"
          ]
        }
      ]
    },
    {
      "cell_type": "code",
      "source": [
        "print(training_set.class_indices)\n",
        "print(valid_set.class_indices)\n",
        "print(test_set.class_indices)"
      ],
      "metadata": {
        "colab": {
          "base_uri": "https://localhost:8080/"
        },
        "id": "GUnsZ9TKboEs",
        "outputId": "117e3133-ab5d-4594-b30e-8f09a83bb9e5"
      },
      "execution_count": 7,
      "outputs": [
        {
          "output_type": "stream",
          "name": "stdout",
          "text": [
            "{'COVID': 0, 'Lung_Opacity': 1, 'Normal': 2, 'Viral Pneumonia': 3}\n",
            "{'COVID': 0, 'Lung_Opacity': 1, 'Normal': 2, 'Viral Pneumonia': 3}\n",
            "{'COVID': 0, 'Lung_Opacity': 1, 'Normal': 2, 'Viral Pneumonia': 3}\n"
          ]
        }
      ]
    },
    {
      "cell_type": "code",
      "source": [
        "# load the VGG16 network, ensuring the head FC layer sets are left\n",
        "# off\n",
        "#from tensorflow.keras import layers\n",
        "from tensorflow.keras.applications import DenseNet121\n",
        "from keras.layers import (Conv2D, BatchNormalization, Activation, MaxPooling2D, GlobalAveragePooling2D, \n",
        "                          Dense, Flatten, Dropout)\n",
        "densenet = DenseNet121(\n",
        "    weights=None,\n",
        "    include_top=False,\n",
        "    input_shape=(224,224,3)\n",
        ")\n",
        "model = tf.keras.models.Sequential([densenet,\n",
        "                                        GlobalAveragePooling2D(),\n",
        "                                        Dense(512, activation='relu'),\n",
        "                                        BatchNormalization(),\n",
        "                                        #Dropout(0.3),\n",
        "                                        Dense(4, activation='sigmoid')\n",
        "                                      ])\n"
      ],
      "metadata": {
        "id": "Z-Q_gDKpbuSO"
      },
      "execution_count": 8,
      "outputs": []
    },
    {
      "cell_type": "code",
      "source": [
        "# compile our model\n",
        "# initialize the initial learning rate, number of epochs to train for,\n",
        "INIT_LR = 1e-3\n",
        "EPOCHS = 5\n",
        "print(\" compiling model...\")\n",
        "opt = Adam(learning_rate=INIT_LR, decay=INIT_LR / EPOCHS)\n",
        "model.compile(loss=\"categorical_crossentropy\", optimizer=opt,\n",
        "              metrics=[\"accuracy\"])"
      ],
      "metadata": {
        "colab": {
          "base_uri": "https://localhost:8080/"
        },
        "id": "MdNm-qS7byMz",
        "outputId": "1af504dc-3835-4445-b4b7-193830aaadaf"
      },
      "execution_count": 9,
      "outputs": [
        {
          "output_type": "stream",
          "name": "stdout",
          "text": [
            " compiling model...\n"
          ]
        }
      ]
    },
    {
      "cell_type": "code",
      "source": [
        "#For avoiding overfitting\n",
        "early = tf.keras.callbacks.EarlyStopping(monitor='val_loss',patience=5)"
      ],
      "metadata": {
        "id": "S3WS0QX7cBmx"
      },
      "execution_count": 10,
      "outputs": []
    },
    {
      "cell_type": "code",
      "source": [
        "model.compile(optimizer= Adam(learning_rate = 0.001),\n",
        "              loss='categorical_crossentropy',\n",
        "              metrics=['accuracy','Precision','Recall'])\n",
        "history = model.fit_generator(training_set, validation_data = valid_set, epochs=100, verbose=1, callbacks=[early])"
      ],
      "metadata": {
        "colab": {
          "base_uri": "https://localhost:8080/"
        },
        "id": "m9pbq24DcGpE",
        "outputId": "9180cb70-e5a3-4070-c6d5-9bbb531ec9cf"
      },
      "execution_count": 11,
      "outputs": [
        {
          "output_type": "stream",
          "name": "stderr",
          "text": [
            "/usr/local/lib/python3.7/dist-packages/ipykernel_launcher.py:4: UserWarning: `Model.fit_generator` is deprecated and will be removed in a future version. Please use `Model.fit`, which supports generators.\n",
            "  after removing the cwd from sys.path.\n"
          ]
        },
        {
          "output_type": "stream",
          "name": "stdout",
          "text": [
            "Epoch 1/100\n",
            "232/232 [==============================] - 334s 1s/step - loss: 0.7321 - accuracy: 0.7281 - precision: 0.4778 - recall: 0.8925 - val_loss: 3.8654 - val_accuracy: 0.2873 - val_precision: 0.2462 - val_recall: 0.4168\n",
            "Epoch 2/100\n",
            "232/232 [==============================] - 282s 1s/step - loss: 0.5257 - accuracy: 0.8009 - precision: 0.4780 - recall: 0.9602 - val_loss: 3.3993 - val_accuracy: 0.3121 - val_precision: 0.3373 - val_recall: 0.8894\n",
            "Epoch 3/100\n",
            "232/232 [==============================] - 283s 1s/step - loss: 0.4706 - accuracy: 0.8245 - precision: 0.4837 - recall: 0.9696 - val_loss: 4.8294 - val_accuracy: 0.4402 - val_precision: 0.3075 - val_recall: 0.9549\n",
            "Epoch 4/100\n",
            "232/232 [==============================] - 278s 1s/step - loss: 0.4138 - accuracy: 0.8496 - precision: 0.4908 - recall: 0.9797 - val_loss: 2.9454 - val_accuracy: 0.4846 - val_precision: 0.3613 - val_recall: 0.8913\n",
            "Epoch 5/100\n",
            "232/232 [==============================] - 278s 1s/step - loss: 0.3827 - accuracy: 0.8601 - precision: 0.4949 - recall: 0.9827 - val_loss: 3.2483 - val_accuracy: 0.3329 - val_precision: 0.3246 - val_recall: 0.7531\n",
            "Epoch 6/100\n",
            "232/232 [==============================] - 279s 1s/step - loss: 0.3652 - accuracy: 0.8662 - precision: 0.4964 - recall: 0.9855 - val_loss: 1.8207 - val_accuracy: 0.5931 - val_precision: 0.3160 - val_recall: 0.9556\n",
            "Epoch 7/100\n",
            "232/232 [==============================] - 280s 1s/step - loss: 0.3289 - accuracy: 0.8792 - precision: 0.5050 - recall: 0.9874 - val_loss: 0.7864 - val_accuracy: 0.7500 - val_precision: 0.5049 - val_recall: 0.9078\n",
            "Epoch 8/100\n",
            "232/232 [==============================] - 279s 1s/step - loss: 0.3081 - accuracy: 0.8883 - precision: 0.5104 - recall: 0.9891 - val_loss: 1.8307 - val_accuracy: 0.5354 - val_precision: 0.3424 - val_recall: 0.8906\n",
            "Epoch 9/100\n",
            "232/232 [==============================] - 278s 1s/step - loss: 0.2923 - accuracy: 0.8930 - precision: 0.5101 - recall: 0.9912 - val_loss: 19.8300 - val_accuracy: 0.3225 - val_precision: 0.3727 - val_recall: 0.9192\n",
            "Epoch 10/100\n",
            "232/232 [==============================] - 279s 1s/step - loss: 0.2833 - accuracy: 0.8946 - precision: 0.5147 - recall: 0.9915 - val_loss: 6.5531 - val_accuracy: 0.3535 - val_precision: 0.3220 - val_recall: 0.8974\n",
            "Epoch 11/100\n",
            "232/232 [==============================] - 279s 1s/step - loss: 0.2657 - accuracy: 0.9064 - precision: 0.5172 - recall: 0.9916 - val_loss: 2.3669 - val_accuracy: 0.3301 - val_precision: 0.3221 - val_recall: 0.5527\n",
            "Epoch 12/100\n",
            "232/232 [==============================] - 273s 1s/step - loss: 0.2597 - accuracy: 0.9033 - precision: 0.5156 - recall: 0.9923 - val_loss: 1.8608 - val_accuracy: 0.6108 - val_precision: 0.3581 - val_recall: 0.9305\n"
          ]
        }
      ]
    },
    {
      "cell_type": "code",
      "source": [
        "model.evaluate(test_set, verbose=1)\n"
      ],
      "metadata": {
        "id": "loFo4SuscMGG",
        "colab": {
          "base_uri": "https://localhost:8080/"
        },
        "outputId": "73170bc6-22cd-4bed-f87d-e973b5d44d5f"
      },
      "execution_count": 12,
      "outputs": [
        {
          "output_type": "stream",
          "name": "stdout",
          "text": [
            "34/34 [==============================] - 11s 310ms/step - loss: 1.9114 - accuracy: 0.5908 - precision: 0.3569 - recall: 0.9320\n"
          ]
        },
        {
          "output_type": "execute_result",
          "data": {
            "text/plain": [
              "[1.9114457368850708,\n",
              " 0.5908447504043579,\n",
              " 0.35694921016693115,\n",
              " 0.9320434331893921]"
            ]
          },
          "metadata": {},
          "execution_count": 12
        }
      ]
    },
    {
      "cell_type": "code",
      "source": [
        "#Accuracy, val_acc, loss, val_loss, epoch_range\n",
        "acc = history.history['accuracy']\n",
        "val_acc = history.history['val_accuracy']\n",
        "loss = history.history['loss']\n",
        "val_loss = history.history['val_loss']\n",
        "epochs=range(len(acc))"
      ],
      "metadata": {
        "id": "EnSYz6Y2cQJb"
      },
      "execution_count": 13,
      "outputs": []
    },
    {
      "cell_type": "code",
      "source": [
        "print(\"accuracy: \",acc)\n",
        "print(\"validation accuracy: \",val_acc)\n",
        "print(\"loss: \",loss)\n",
        "print(\"validation loss: \",val_loss)\n",
        "print(\"epochs: \",epochs)"
      ],
      "metadata": {
        "id": "T5Sk3-aVcTIq",
        "colab": {
          "base_uri": "https://localhost:8080/"
        },
        "outputId": "2658b749-1cb3-42a4-f0dc-04fec1226648"
      },
      "execution_count": 14,
      "outputs": [
        {
          "output_type": "stream",
          "name": "stdout",
          "text": [
            "accuracy:  [0.7280950546264648, 0.8009315729141235, 0.8244903683662415, 0.8496017456054688, 0.8600648045539856, 0.8662076592445374, 0.8791683316230774, 0.8883488774299622, 0.8930066227912903, 0.8945592045783997, 0.9063723683357239, 0.9032672047615051]\n",
            "validation accuracy:  [0.2873345911502838, 0.31214556097984314, 0.44021740555763245, 0.48464083671569824, 0.3329395055770874, 0.5931001901626587, 0.75, 0.5354442596435547, 0.3225425183773041, 0.353497177362442, 0.33010396361351013, 0.610822319984436]\n",
            "loss:  [0.732117772102356, 0.5257300734519958, 0.4705560803413391, 0.4137621223926544, 0.3826611042022705, 0.3652164041996002, 0.32888203859329224, 0.3081088066101074, 0.29228395223617554, 0.28332066535949707, 0.26572728157043457, 0.25969478487968445]\n",
            "validation loss:  [3.8653628826141357, 3.3993120193481445, 4.8293867111206055, 2.945358991622925, 3.2482898235321045, 1.8206645250320435, 0.7864187359809875, 1.8307448625564575, 19.830045700073242, 6.55310583114624, 2.3668713569641113, 1.8607772588729858]\n",
            "epochs:  range(0, 12)\n"
          ]
        }
      ]
    },
    {
      "cell_type": "code",
      "source": [
        "#plot training nad validation accuracy\n",
        "plt.plot(epochs,acc,label='Training_acc',color='blue')\n",
        "plt.plot(epochs,val_acc,label='Validation_acc',color='red')\n",
        "plt.legend()\n",
        "plt.title(\"Training and Validation Accuracy\")"
      ],
      "metadata": {
        "id": "cvGOmTTMcXIJ",
        "colab": {
          "base_uri": "https://localhost:8080/",
          "height": 298
        },
        "outputId": "35b3d219-3192-4757-a1c2-241e98a8d050"
      },
      "execution_count": 15,
      "outputs": [
        {
          "output_type": "execute_result",
          "data": {
            "text/plain": [
              "Text(0.5, 1.0, 'Training and Validation Accuracy')"
            ]
          },
          "metadata": {},
          "execution_count": 15
        },
        {
          "output_type": "display_data",
          "data": {
            "text/plain": [
              "<Figure size 432x288 with 1 Axes>"
            ],
            "image/png": "[encoded data removed]"
          },
          "metadata": {
            "needs_background": "light"
          }
        }
      ]
    },
    {
      "cell_type": "code",
      "source": [
        "#training and validation loss\n",
        "plt.plot(epochs,loss,label='Training_loss',color='blue')\n",
        "plt.plot(epochs,val_loss,label='Validation_loss',color='red')\n",
        "plt.legend()\n",
        "plt.title(\"Training and Validation loss\")"
      ],
      "metadata": {
        "id": "oH529jyfcaXw",
        "colab": {
          "base_uri": "https://localhost:8080/",
          "height": 298
        },
        "outputId": "80f56f7d-d9da-462c-b6c9-d609e966fe67"
      },
      "execution_count": 16,
      "outputs": [
        {
          "output_type": "execute_result",
          "data": {
            "text/plain": [
              "Text(0.5, 1.0, 'Training and Validation loss')"
            ]
          },
          "metadata": {},
          "execution_count": 16
        },
        {
          "output_type": "display_data",
          "data": {
            "text/plain": [
              "<Figure size 432x288 with 1 Axes>"
            ],
            "image/png": "[encoded data removed]"
          },
          "metadata": {
            "needs_background": "light"
          }
        }
      ]
    },
    {
      "cell_type": "code",
      "source": [
        "#model history\n",
        "import pandas as pd\n",
        "loss_df = pd.DataFrame(model.history.history)\n",
        "loss_df"
      ],
      "metadata": {
        "id": "EYOeHhcBcda0",
        "colab": {
          "base_uri": "https://localhost:8080/",
          "height": 49
        },
        "outputId": "df4bf056-c64b-441a-b44e-b5b009207388"
      },
      "execution_count": 17,
      "outputs": [
        {
          "output_type": "execute_result",
          "data": {
            "text/plain": [
              "Empty DataFrame\n",
              "Columns: []\n",
              "Index: []"
            ],
            "text/html": [
              "\n",
              "  <div id=\"df-c411190b-bcea-4d4b-be67-d3a1c531507a\">\n",
              "    <div class=\"colab-df-container\">\n",
              "      <div>\n",
              "<style scoped>\n",
              "    .dataframe tbody tr th:only-of-type {\n",
              "        vertical-align: middle;\n",
              "    }\n",
              "\n",
              "    .dataframe tbody tr th {\n",
              "        vertical-align: top;\n",
              "    }\n",
              "\n",
              "    .dataframe thead th {\n",
              "        text-align: right;\n",
              "    }\n",
              "</style>\n",
              "<table border=\"1\" class=\"dataframe\">\n",
              "  <thead>\n",
              "    <tr style=\"text-align: right;\">\n",
              "      <th></th>\n",
              "    </tr>\n",
              "  </thead>\n",
              "  <tbody>\n",
              "  </tbody>\n",
              "</table>\n",
              "</div>\n",
              "      <button class=\"colab-df-convert\" onclick=\"convertToInteractive('df-c411190b-bcea-4d4b-be67-d3a1c531507a')\"\n",
              "              title=\"Convert this dataframe to an interactive table.\"\n",
              "              style=\"display:none;\">\n",
              "        \n",
              "  <svg xmlns=\"http://www.w3.org/2000/svg\" height=\"24px\"viewBox=\"0 0 24 24\"\n",
              "       width=\"24px\">\n",
              "    <path d=\"M0 0h24v24H0V0z\" fill=\"none\"/>\n",
              "    <path d=\"M18.56 5.44l.94 2.06.94-2.06 2.06-.94-2.06-.94-.94-2.06-.94 2.06-2.06.94zm-11 1L8.5 8.5l.94-2.06 2.06-.94-2.06-.94L8.5 2.5l-.94 2.06-2.06.94zm10 10l.94 2.06.94-2.06 2.06-.94-2.06-.94-.94-2.06-.94 2.06-2.06.94z\"/><path d=\"M17.41 7.96l-1.37-1.37c-.4-.4-.92-.59-1.43-.59-.52 0-1.04.2-1.43.59L10.3 9.45l-7.72 7.72c-.78.78-.78 2.05 0 2.83L4 21.41c.39.39.9.59 1.41.59.51 0 1.02-.2 1.41-.59l7.78-7.78 2.81-2.81c.8-.78.8-2.07 0-2.86zM5.41 20L4 18.59l7.72-7.72 1.47 1.35L5.41 20z\"/>\n",
              "  </svg>\n",
              "      </button>\n",
              "      \n",
              "  <style>\n",
              "    .colab-df-container {\n",
              "      display:flex;\n",
              "      flex-wrap:wrap;\n",
              "      gap: 12px;\n",
              "    }\n",
              "\n",
              "    .colab-df-convert {\n",
              "      background-color: #E8F0FE;\n",
              "      border: none;\n",
              "      border-radius: 50%;\n",
              "      cursor: pointer;\n",
              "      display: none;\n",
              "      fill: #1967D2;\n",
              "      height: 32px;\n",
              "      padding: 0 0 0 0;\n",
              "      width: 32px;\n",
              "    }\n",
              "\n",
              "    .colab-df-convert:hover {\n",
              "      background-color: #E2EBFA;\n",
              "      box-shadow: 0px 1px 2px rgba(60, 64, 67, 0.3), 0px 1px 3px 1px rgba(60, 64, 67, 0.15);\n",
              "      fill: #174EA6;\n",
              "    }\n",
              "\n",
              "    [theme=dark] .colab-df-convert {\n",
              "      background-color: #3B4455;\n",
              "      fill: #D2E3FC;\n",
              "    }\n",
              "\n",
              "    [theme=dark] .colab-df-convert:hover {\n",
              "      background-color: #434B5C;\n",
              "      box-shadow: 0px 1px 3px 1px rgba(0, 0, 0, 0.15);\n",
              "      filter: drop-shadow(0px 1px 2px rgba(0, 0, 0, 0.3));\n",
              "      fill: #FFFFFF;\n",
              "    }\n",
              "  </style>\n",
              "\n",
              "      <script>\n",
              "        const buttonEl =\n",
              "          document.querySelector('#df-c411190b-bcea-4d4b-be67-d3a1c531507a button.colab-df-convert');\n",
              "        buttonEl.style.display =\n",
              "          google.colab.kernel.accessAllowed ? 'block' : 'none';\n",
              "\n",
              "        async function convertToInteractive(key) {\n",
              "          const element = document.querySelector('#df-c411190b-bcea-4d4b-be67-d3a1c531507a');\n",
              "          const dataTable =\n",
              "            await google.colab.kernel.invokeFunction('convertToInteractive',\n",
              "                                                     [key], {});\n",
              "          if (!dataTable) return;\n",
              "\n",
              "          const docLinkHtml = 'Like what you see? Visit the ' +\n",
              "            '<a target=\"_blank\" href=https://colab.research.google.com/notebooks/data_table.ipynb>data table notebook</a>'\n",
              "            + ' to learn more about interactive tables.';\n",
              "          element.innerHTML = '';\n",
              "          dataTable['output_type'] = 'display_data';\n",
              "          await google.colab.output.renderOutput(dataTable, element);\n",
              "          const docLink = document.createElement('div');\n",
              "          docLink.innerHTML = docLinkHtml;\n",
              "          element.appendChild(docLink);\n",
              "        }\n",
              "      </script>\n",
              "    </div>\n",
              "  </div>\n",
              "  "
            ]
          },
          "metadata": {},
          "execution_count": 17
        }
      ]
    },
    {
      "cell_type": "code",
      "source": [
        "#model evaluation on testing\n",
        "\n",
        "from keras.models import load_model\n",
        "\n",
        "#model.load_weights(\"\")\n",
        "model.evaluate(test_set)"
      ],
      "metadata": {
        "id": "CbNNd5t2cgnt",
        "colab": {
          "base_uri": "https://localhost:8080/"
        },
        "outputId": "279de383-2d9d-4356-ebbf-4fceb44517eb"
      },
      "execution_count": 18,
      "outputs": [
        {
          "output_type": "stream",
          "name": "stdout",
          "text": [
            "34/34 [==============================] - 9s 271ms/step - loss: 1.9114 - accuracy: 0.5908 - precision: 0.3569 - recall: 0.9320\n"
          ]
        },
        {
          "output_type": "execute_result",
          "data": {
            "text/plain": [
              "[1.9114457368850708,\n",
              " 0.5908447504043579,\n",
              " 0.35694921016693115,\n",
              " 0.9320434331893921]"
            ]
          },
          "metadata": {},
          "execution_count": 18
        }
      ]
    },
    {
      "cell_type": "code",
      "source": [
        "#prediction on test data\n",
        "predictions = np.argmax(model.predict(test_set), axis = -1)"
      ],
      "metadata": {
        "id": "pYzw6JyYcmvQ"
      },
      "execution_count": 19,
      "outputs": []
    },
    {
      "cell_type": "code",
      "source": [
        "#classification report\n",
        "print(classification_report(test_set.classes,predictions))"
      ],
      "metadata": {
        "id": "JU5kLrnYcppR",
        "colab": {
          "base_uri": "https://localhost:8080/"
        },
        "outputId": "cb8c9cd3-a01a-4d19-a1cb-bf56e194ae82"
      },
      "execution_count": 20,
      "outputs": [
        {
          "output_type": "stream",
          "name": "stdout",
          "text": [
            "              precision    recall  f1-score   support\n",
            "\n",
            "           0       0.39      0.81      0.53       362\n",
            "           1       0.86      0.30      0.44       602\n",
            "           2       0.67      0.76      0.71      1020\n",
            "           3       1.00      0.02      0.04       135\n",
            "\n",
            "    accuracy                           0.59      2119\n",
            "   macro avg       0.73      0.47      0.43      2119\n",
            "weighted avg       0.70      0.59      0.56      2119\n",
            "\n"
          ]
        }
      ]
    },
    {
      "cell_type": "code",
      "source": [
        "# compute the confusion matrix and and use it to derive the raw\n",
        "# accuracy, sensitivity, and specificity\n",
        "cm = confusion_matrix(test_set.classes, predictions)\n",
        "sensitivity = cm[0, 0] / (cm[0, 0] + cm[0, 1])\n",
        "specificity = cm[1, 1] / (cm[1, 0] + cm[1, 1])"
      ],
      "metadata": {
        "id": "2V2d15VJcsOu"
      },
      "execution_count": 21,
      "outputs": []
    },
    {
      "cell_type": "code",
      "source": [
        "import seaborn as sns\n",
        "print(confusion_matrix(test_set.classes,predictions))\n",
        "sns.heatmap(confusion_matrix(test_set.classes,predictions), annot = True)\n",
        "# show the sensitivity, and specificity\n",
        "print(\"sensitivity: {:.4f}\".format(sensitivity))\n",
        "print(\"specificity: {:.4f}\".format(specificity))"
      ],
      "metadata": {
        "id": "sIDVVbv7cwbk",
        "colab": {
          "base_uri": "https://localhost:8080/",
          "height": 369
        },
        "outputId": "28e58be1-e9ab-4ffa-b3f0-34de0a45b7e0"
      },
      "execution_count": 22,
      "outputs": [
        {
          "output_type": "stream",
          "name": "stdout",
          "text": [
            "[[295   6  61   0]\n",
            " [208 179 215   0]\n",
            " [223  22 775   0]\n",
            " [ 26   1 105   3]]\n",
            "sensitivity: 0.9801\n",
            "specificity: 0.4625\n"
          ]
        },
        {
          "output_type": "display_data",
          "data": {
            "text/plain": [
              "<Figure size 432x288 with 2 Axes>"
            ],
            "image/png": "[encoded data removed]"
          },
          "metadata": {
            "needs_background": "light"
          }
        }
      ]
    }
  ]
}